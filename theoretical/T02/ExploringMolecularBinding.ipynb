{
 "cells": [
  {
   "cell_type": "markdown",
   "metadata": {},
   "source": [
    "# Biomolecular Interactions\n",
    "\n",
    "## Physicochemical foundations\n",
    "\n",
    "In this notebook, we will review some exercises to strengthen your knowledge of the introductory physicochemical foundations' lecture\n",
    "\n",
    "We will start by reviewing basic binding formulas:"
   ]
  },
  {
   "cell_type": "code",
   "execution_count": null,
   "metadata": {},
   "outputs": [],
   "source": [
    "# Import the necessary python libraries\n",
    "import numpy as np                # for numerical analysis\n",
    "import matplotlib.pyplot as plt   # For ploting data"
   ]
  },
  {
   "cell_type": "markdown",
   "metadata": {},
   "source": [
    "### Myoglobin/Oxygen binding - Simple binding\n",
    "\n",
    "Let's review the myoglobin example:\n",
    "\n",
    "Myoglobin's major physiological role is to facilitate oxygen diffusion in muscle—the most rapidly respiring tissue under high exertion conditions.\n",
    "\n",
    "The dissociation constant (K) expresses the characteristic behavior of the binding process. Note that the lower the value of K, the tighter the binding is.\n",
    "\n",
    "We here employ the binding-sites saturation function to explore how this variable affects the binding."
   ]
  },
  {
   "cell_type": "code",
   "execution_count": null,
   "metadata": {},
   "outputs": [],
   "source": [
    "# Define the O2 binding sites saturation function\n",
    "\n",
    "def fractionalSaturation(pO2, K=2.8):\n",
    "    \"\"\"\n",
    "    The fraction of O2-binding sites occupied by O2 in myoglobin.\n",
    "    \n",
    "    This equation describes a rectangular hyperbola and is identical in form to\n",
    "    the equations that describe a hormone binding to its cell-surface receptor or a\n",
    "    small molecular substrate binding to the active site of an enzyme.\n",
    "    \n",
    "    Parameters\n",
    "    ==========\n",
    "    \n",
    "    pO2 : np.ndarray or float\n",
    "        Oxygen pressure (independent variable)\n",
    "    K : float\n",
    "        Dissociation constant\n",
    "    \"\"\"\n",
    "    \n",
    "    YO2 = pO2 / (K + pO2)\n",
    "    return YO2"
   ]
  },
  {
   "cell_type": "markdown",
   "metadata": {},
   "source": [
    "Now let's plot this function to understand how binding and saturation works."
   ]
  },
  {
   "cell_type": "code",
   "execution_count": null,
   "metadata": {},
   "outputs": [],
   "source": [
    "# Define a range of pressures to examine the process\n",
    "X = np.arange(0, 160, 0.1)\n",
    "\n",
    "# Plot O2 pressure vs binding sites saturation\n",
    "Y = fractionalSaturation(X)\n",
    "plt.plot(X, Y, c='k', label='Binding sites saturation')\n",
    "plt.xlabel('$pO_{2}$ [torr]')\n",
    "plt.ylabel('$Y_{O_{2}}$ [torr]')\n",
    "plt.title('Binding sites saturation for myoglobin')\n",
    "\n",
    "# Plot the limit when all sites are occupied\n",
    "plt.axhline(1.0, ls='--', c='k', label='Max. saturation')\n",
    "# Plot venous saturation pressure\n",
    "plt.axvline(30, ls='--', c='b', label='Venous $pO_2$ saturation')\n",
    "# Plot arterial saturation pressure (at sea level)\n",
    "plt.axvline(160, ls='--', c='r', label='Arterial $pO_2$ saturation')\n",
    "\n",
    "plt.legend()"
   ]
  },
  {
   "cell_type": "markdown",
   "metadata": {},
   "source": [
    "At low $pO_2$ , very little $O_2$ binds to myoglobin ( $Y_{O_2}$ is very small). As the $pO_2$ increases, more $O_2$ binds to myoglobin. At very high $pO_2$ , virtually all the $O_2$-binding sites are occupied and myoglobin is said to be saturated with $O_2$.\n",
    "\n",
    "What is the fraction of oxygen delivered to the muscle by myoglobin in one pulmonary cycle?\n",
    "\n",
    "To estimate this, we calculate the difference between the saturated fractions of binding sites at the arterial and venous pressures. Then we will use an example myoglobin concentration of 0.69 mM at the muscle fibers. Which volume will occupy this oxygen at standard conditions (assume an ideal gas)?"
   ]
  },
  {
   "cell_type": "code",
   "execution_count": null,
   "metadata": {},
   "outputs": [],
   "source": [
    "# Our data\n",
    "myoG_c = 0.69 # mM\n",
    "T = 273.15 # in Kelvin\n",
    "P = 1.0 # in Atm\n",
    "R = 0.082057 # in L⋅atm/(K⋅mol)\n",
    "\n",
    "# Estimate the number of mols of O2 liberated\n",
    "arterial_Y = fractionalSaturation(160)\n",
    "venous_Y = fractionalSaturation(30)\n",
    "n = (arterial_Y-venous_Y)*myoG_c*10e-3 # Convert to mol\n",
    "\n",
    "# Calcualte the volume\n",
    "V = n*R*T/P * 1000 # convert to mL\n",
    "print('Myoglobin interchanges a total of %.2f mL in one pulmonary cycle' % V) # in L"
   ]
  },
  {
   "cell_type": "markdown",
   "metadata": {},
   "source": [
    "What happens now if the affinity for $O_2$ changed (i.e., the binding constant)"
   ]
  },
  {
   "cell_type": "code",
   "execution_count": null,
   "metadata": {},
   "outputs": [],
   "source": [
    "for K in np.arange(1.0, 5.1, 1.0):\n",
    "    X = np.arange(0, 160, 0.1)\n",
    "    # Plot O2 pressure vs binding sites saturation\n",
    "    Y = fractionalSaturation(X, K=K)\n",
    "    plt.plot(X, Y, label='K='+str(K))\n",
    "    \n",
    "plt.xlabel('$pO_{2}$ [torr]')\n",
    "plt.ylabel('$Y_{O_{2}}$ [torr]')\n",
    "# Plot the limit when all sites are occupied\n",
    "plt.axhline(1.0, ls='--', c='k', label='Max. saturation')\n",
    "# Plot venous saturation pressure\n",
    "plt.axvline(30, ls='--', c='b', label='Venous $pO_2$ saturation')\n",
    "# Plot arterial saturation pressure (at sea level)\n",
    "plt.axvline(160, ls='--', c='r', label='Arterial $pO_2$ saturation')\n",
    "plt.title('Binding sites saturation at different K values')\n",
    "plt.legend()"
   ]
  },
  {
   "cell_type": "markdown",
   "metadata": {},
   "source": [
    "How is the one pulmonary cycle-volume liberated affected by the changes in the binding constant?    "
   ]
  },
  {
   "cell_type": "code",
   "execution_count": null,
   "metadata": {},
   "outputs": [],
   "source": [
    "# Data\n",
    "myoG_c = 0.69 # mM\n",
    "T = 273.15 # in Kelvin\n",
    "P = 1.0 # in Atm\n",
    "R = 0.082057 # in L⋅atm/(K⋅mol)\n",
    "\n",
    "X = []\n",
    "Y = []\n",
    "for K in np.arange(1.0, 5.1, 1.0):\n",
    "    arterial_Y = fractionalSaturation(160, K=K)\n",
    "    venous_Y = fractionalSaturation(30, K=K)\n",
    "    n = (arterial_Y-venous_Y)*myoG_c*10e-3\n",
    "    V = n*R*T/P*1000\n",
    "    X.append(K)\n",
    "    Y.append(V)\n",
    "    \n",
    "plt.plot(X,Y, c='k')\n",
    "plt.plot(X,Y, c='orange', marker='o', ls='')\n",
    "plt.xlabel('K [Torr]')\n",
    "plt.ylabel('Interchanged $O_2$ Volume [mL]')"
   ]
  },
  {
   "cell_type": "markdown",
   "metadata": {},
   "source": []
  },
  {
   "cell_type": "markdown",
   "metadata": {},
   "source": [
    "There is a linear dependency between the interchanged volume and the binding constant.\n",
    "\n",
    "### Hemoglobin/Oxygen binding - Allosteric binding\n",
    "\n",
    "The earliest attempt to analyze hemoglobin’s sigmoidal $O_2$ dissociation curve was formulated by Archibald Hill in 1910. Hill assumed that hemoglobin (Hb) bound n molecules of $O_2$ in a single step:\n",
    "\n",
    "$Hb + nO_2 \\rightarrow Hb(O_2)_n$\n",
    "        \n",
    "That is, with infinite cooperativity.\n",
    "\n",
    "The Hill equation describes hemoglobin’s $O_2$-binding curve:\n",
    "\n",
    "$Y_{O_2} = \\frac{(p_{O_2})^n}{K^n + (p_{O_2})^n}$\n",
    "\n",
    "The quantity n, the Hill constant, increases with the degree of cooperativity of a reaction and provides a convenient, although simplistic, characterization of a ligand-binding reaction. The coefficient n may be taken to be a nonintegral parameter related to the degree of cooperativity among interacting hemoglobin subunits rather than the number of subunits that bind $O_2$ in one step.\n",
    "\n",
    "Infinite $O_2$ binding cooperativity, as Hill assumed, is a physical impossibility. The Hill equation can then be taken as a useful empirical curve-fitting relationship rather than an indicator of a particular ligand-binding model.\n",
    "\n",
    "How does n affect $O_2$ binding?"
   ]
  },
  {
   "cell_type": "code",
   "execution_count": null,
   "metadata": {},
   "outputs": [],
   "source": [
    "def hillEquation(pO2, n=1.0, K=30):\n",
    "    \"\"\"\n",
    "    The fraction of O2-binding sites occupied by O2 in hemoglobin using the Hill equation.\n",
    "    \n",
    "    Parameters\n",
    "    ==========\n",
    "    \n",
    "    pO2 : np.ndarray or float\n",
    "        Oxygen pressure (independent variable)\n",
    "    n : float\n",
    "        Hill coefficient\n",
    "    K : float\n",
    "        Dissociation constant\n",
    "    \"\"\"\n",
    "    \n",
    "    YO2 = pO2**n / (K**n + pO2**n)\n",
    "    \n",
    "    return YO2"
   ]
  },
  {
   "cell_type": "code",
   "execution_count": null,
   "metadata": {},
   "outputs": [],
   "source": [
    "for n in np.arange(1.0, 4.1):\n",
    "    X = np.arange(0, 160, 0.1)\n",
    "    # Plot O2 pressure vs binding sites saturation\n",
    "    Y = hillEquation(X, n=n)\n",
    "    plt.plot(X, Y, label='n='+str(n))\n",
    "    \n",
    "plt.xlabel('$pO_{2}$ [torr]')\n",
    "plt.ylabel('$Y_{O_{2}}$ [torr]')\n",
    "# Plot the limit when all sites are occupied\n",
    "plt.axhline(1.0, ls='--', c='k')\n",
    "# Plot venous saturation pressure\n",
    "plt.axvline(30, ls='--', c='b')\n",
    "# Plot arterial saturation pressure (at sea level)\n",
    "plt.axvline(160, ls='--', c='r')\n",
    "plt.title('Binding sites saturation at different Hill coefficient values')\n",
    "plt.legend()"
   ]
  },
  {
   "cell_type": "markdown",
   "metadata": {},
   "source": [
    "How will the fraction of volume liberated will be affected by the coperativity?"
   ]
  },
  {
   "cell_type": "code",
   "execution_count": null,
   "metadata": {},
   "outputs": [],
   "source": [
    "X = []\n",
    "Y = []\n",
    "\n",
    "for n in np.arange(1.0, 4.1, 1.0):\n",
    "    X.append(n)\n",
    "    arterial_Y = hillEquation(160, n=n)\n",
    "    venous_Y = hillEquation(30, n=n)\n",
    "    fO2 = arterial_Y-venous_Y\n",
    "    Y.append(fO2)\n",
    "    \n",
    "plt.plot(X,Y, c='k')\n",
    "plt.plot(X,Y, c='orange', marker='o', ls='')\n",
    "plt.xlabel('n')\n",
    "plt.ylabel('$O_2$ interchanged fraction')"
   ]
  },
  {
   "cell_type": "markdown",
   "metadata": {},
   "source": [
    "How will the fraction of liberated volume be affected by the cooperativity?"
   ]
  },
  {
   "cell_type": "code",
   "execution_count": null,
   "metadata": {},
   "outputs": [],
   "source": [
    "for K in np.arange(10, 51, 10):\n",
    "    X = []\n",
    "    Y = []\n",
    "    for n in np.arange(1.0, 4.1, 1.0):\n",
    "        X.append(n)\n",
    "        arterial_Y = hillEquation(160, n=n, K=K)\n",
    "        venous_Y = hillEquation(30, n=n, K=K)\n",
    "        fO2 = arterial_Y-venous_Y\n",
    "        Y.append(fO2)\n",
    "\n",
    "    plt.plot(X,Y, label='K='+str(K))\n",
    "    plt.xlabel('n')\n",
    "    plt.ylabel('$O_2$ interchanged fraction')\n",
    "plt.legend()"
   ]
  },
  {
   "cell_type": "markdown",
   "metadata": {},
   "source": [
    "How do the different cooperative binding curves look like at the different affinities?"
   ]
  },
  {
   "cell_type": "code",
   "execution_count": null,
   "metadata": {},
   "outputs": [],
   "source": [
    "for K in np.arange(50, 9, -10):\n",
    "    plt.figure()\n",
    "    for n in np.arange(1.0, 4.1):\n",
    "        X = np.arange(0, 160, 0.1)\n",
    "        # Plot O2 pressure vs binding sites saturation\n",
    "        Y = hillEquation(X, n=n, K=K)\n",
    "        plt.plot(X, Y, label='n='+str(n))\n",
    "\n",
    "    plt.xlabel('$pO_{2}$ [torr]')\n",
    "    plt.ylabel('$Y_{O_{2}}$ [torr]')\n",
    "    # Plot the limit when all sites are occupied\n",
    "    plt.axhline(1.0, ls='--', c='k')\n",
    "    # Plot venous saturation pressure\n",
    "    plt.axvline(30, ls='--', c='b')\n",
    "    # Plot arterial saturation pressure (at sea level)\n",
    "    plt.axvline(160, ls='--', c='r')\n",
    "    plt.title('Binding sites saturation at different Hill coefficient values \\n Binding constant K='+str(K))\n",
    "    plt.legend()"
   ]
  },
  {
   "cell_type": "markdown",
   "metadata": {},
   "source": [
    "Why do you think hemoglobin does not increment its binding constant (less affinity) for $O_2$ to maximize the fraction of $O_2$ interchanged?"
   ]
  },
  {
   "cell_type": "markdown",
   "metadata": {},
   "source": [
    "### References \n",
    "\n",
    "Voet, Donald, Judith G. Voet, and Charlotte W. Pratt. Fundamentals of biochemistry: life at the molecular level. John Wiley & Sons, 2016."
   ]
  }
 ],
 "metadata": {
  "kernelspec": {
   "display_name": "Python 3",
   "language": "python",
   "name": "python3"
  },
  "language_info": {
   "codemirror_mode": {
    "name": "ipython",
    "version": 3
   },
   "file_extension": ".py",
   "mimetype": "text/x-python",
   "name": "python",
   "nbconvert_exporter": "python",
   "pygments_lexer": "ipython3",
   "version": "3.6.10"
  }
 },
 "nbformat": 4,
 "nbformat_minor": 4
}
