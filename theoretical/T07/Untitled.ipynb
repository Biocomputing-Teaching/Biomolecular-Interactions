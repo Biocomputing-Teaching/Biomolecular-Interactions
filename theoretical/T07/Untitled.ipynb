{
 "cells": [
  {
   "cell_type": "code",
   "execution_count": 1,
   "metadata": {},
   "outputs": [
    {
     "data": {
      "image/png": "[encoded data removed]",
      "text/plain": [
       "<Figure size 432x288 with 1 Axes>"
      ]
     },
     "metadata": {
      "needs_background": "light"
     },
     "output_type": "display_data"
    }
   ],
   "source": [
    "import matplotlib.pyplot as plt\n",
    "import numpy as np\n",
    "\n",
    "\n",
    "# 100 linearly spaced numbers\n",
    "x = np.linspace(1.5,9.2,100)\n",
    "\n",
    "# the function, which is y = x^2 here\n",
    "y = ((x-3)**2)*((x-8)**2)\n",
    "\n",
    "# setting the axes at the centre\n",
    "fig = plt.figure()\n",
    "ax = fig.add_subplot(1, 1, 1)\n",
    "ax.spines['left'].set_position('center')\n",
    "ax.spines['bottom'].set_position('zero')\n",
    "ax.spines['right'].set_color('none')\n",
    "ax.spines['top'].set_color('none')\n",
    "ax.xaxis.set_ticks_position('bottom')\n",
    "ax.yaxis.set_ticks_position('left')\n",
    "\n",
    "x0=1\n",
    "y0=((x0-3)**2-3)*(x0-8)**2\n",
    "\n",
    "# plot the function\n",
    "plt.plot(x,y, 'r')\n",
    "plt.plot(x0,y0,'d')\n",
    "\n",
    "# show the plot\n",
    "plt.show()"
   ]
  },
  {
   "cell_type": "code",
   "execution_count": 2,
   "metadata": {},
   "outputs": [
    {
     "name": "stdout",
     "output_type": "stream",
     "text": [
      "Requirement already satisfied: vector2d in /Users/annaballus/anaconda3/lib/python3.8/site-packages (1.1.0)\n",
      "Note: you may need to restart the kernel to use updated packages.\n"
     ]
    }
   ],
   "source": [
    "pip install vector2d"
   ]
  },
  {
   "cell_type": "code",
   "execution_count": 5,
   "metadata": {},
   "outputs": [
    {
     "ename": "ModuleNotFoundError",
     "evalue": "No module named 'vector2d'",
     "output_type": "error",
     "traceback": [
      "\u001b[0;31m---------------------------------------------------------------------------\u001b[0m",
      "\u001b[0;31mModuleNotFoundError\u001b[0m                       Traceback (most recent call last)",
      "\u001b[0;32m<ipython-input-5-84b1a385bdc9>\u001b[0m in \u001b[0;36m<module>\u001b[0;34m\u001b[0m\n\u001b[1;32m      2\u001b[0m \u001b[0;32mimport\u001b[0m \u001b[0mrandom\u001b[0m\u001b[0;34m\u001b[0m\u001b[0;34m\u001b[0m\u001b[0m\n\u001b[1;32m      3\u001b[0m \u001b[0;32mimport\u001b[0m \u001b[0mmatplotlib\u001b[0m\u001b[0;34m.\u001b[0m\u001b[0mpyplot\u001b[0m \u001b[0;32mas\u001b[0m \u001b[0mplt\u001b[0m\u001b[0;34m\u001b[0m\u001b[0;34m\u001b[0m\u001b[0m\n\u001b[0;32m----> 4\u001b[0;31m \u001b[0;32mimport\u001b[0m \u001b[0mvector2d\u001b[0m\u001b[0;34m.\u001b[0m\u001b[0mVector2D\u001b[0m\u001b[0;34m\u001b[0m\u001b[0;34m\u001b[0m\u001b[0m\n\u001b[0m\u001b[1;32m      5\u001b[0m \u001b[0;34m\u001b[0m\u001b[0m\n\u001b[1;32m      6\u001b[0m \u001b[0;32mclass\u001b[0m \u001b[0mParticle\u001b[0m\u001b[0;34m:\u001b[0m\u001b[0;34m\u001b[0m\u001b[0;34m\u001b[0m\u001b[0m\n",
      "\u001b[0;31mModuleNotFoundError\u001b[0m: No module named 'vector2d'"
     ]
    }
   ],
   "source": [
    "import math\n",
    "import random\n",
    "import matplotlib.pyplot as plt\n",
    "import vector2d.Vector2D\n",
    "\n",
    "class Particle:\n",
    "    \"\"\"A circular particle of unit mass with position and velocity.\"\"\"\n",
    "\n",
    "    def __init__(self, x, y, vx, vy, radius=0.01):\n",
    "        self.pos = Vector2D(x, y)\n",
    "        self.vel = Vector2D(vx, vy)\n",
    "        self.radius = radius\n",
    "\n",
    "    def advance(self, dt):\n",
    "        \"\"\"Advance the particle's position according to its velocity.\"\"\"\n",
    "\n",
    "        # Use periodic boundary conditions: a Particle that moves across an\n",
    "        # edge of the domain 0<=x<1, 0<=y<1 magically reappears at the opposite\n",
    "        # edge.\n",
    "        self.pos = (self.pos + self.vel * dt) % 1\n",
    "\n",
    "    def distance_to(self, other):\n",
    "        \"\"\"Return the distance from this Particle to other Particle.\"\"\"\n",
    "        return self.pos.distance_to(other.pos)\n",
    "\n",
    "    def get_speed(self):\n",
    "        \"\"\"Return the speed of the Particle from its velocity.\"\"\"\n",
    "        return abs(self.vel)\n",
    "\n",
    "\n",
    "class Simulation:\n",
    "    \"\"\"A simple simulation of circular particles in motion.\"\"\"\n",
    "\n",
    "    def __init__(self, nparticles=100, radius=0.01, v0=0.05):\n",
    "        self.nparticles = nparticles\n",
    "        self.radius = radius\n",
    "        # Randomly initialize the particles' positions and velocity directions.\n",
    "        self.particles = [self.init_particle(v0) for i in range(nparticles)]\n",
    "        self.t = 0\n",
    "\n",
    "    def init_particle(self, v0=0.05):\n",
    "        \"\"\"Return a new Particle object with random position and velocity.\n",
    "\n",
    "        The position is chosen uniformly from 0 <= x < 1, 0 <= y < 1;\n",
    "        The velocity has fixed magnitude, v0, but random direction.\n",
    "\n",
    "        \"\"\"\n",
    "\n",
    "        x, y = random.random(), random.random()\n",
    "        theta = 2*math.pi * random.random()\n",
    "        self.v0 = v0\n",
    "        vx, vy = self.v0 * math.cos(theta), self.v0 * math.sin(theta)\n",
    "        return Particle(x, y, vx, vy, self.radius)\n",
    "\n",
    "    def advance(self, dt):\n",
    "        \"\"\"Advance the Simulation by dt in time, handling collisions.\"\"\"\n",
    "\n",
    "        self.t += dt\n",
    "        for particle in self.particles:\n",
    "            particle.advance(dt)\n",
    "\n",
    "        # Find all distinct pairs of Particles currently undergoing a collision.\n",
    "        colliding_pair = []\n",
    "        for i in range(self.nparticles):\n",
    "            pi = self.particles[i]\n",
    "            for j in range(i+1, self.nparticles):\n",
    "                pj = self.particles[j]\n",
    "                # pi collides with pj if their separation is less than twice\n",
    "                # their radius.\n",
    "                if pi.distance_to(pj) < 2 * self.radius:\n",
    "                    colliding_pair.append((i, j))\n",
    "\n",
    "        print('ncollisions =', len(colliding_pair))\n",
    "        # For each pair, the velocities change according to the kinetics of\n",
    "        # an elastic collision between circles.\n",
    "        for i,j in colliding_pair:\n",
    "            p1, p2 = self.particles[i], self.particles[j]\n",
    "            r1, r2 = p1.pos, p2.pos\n",
    "            v1, v2 = p1.vel, p2.vel\n",
    "            dr, dv = r2 - r1, v2 - v1\n",
    "            dv_dot_dr = dv.dot(dr)\n",
    "            d = r1.distance_to(r2) ** 2\n",
    "            p1.vel = v1 - dv_dot_dr / d * (r1 - r2)\n",
    "            p2.vel = v2 - dv_dot_dr / d * (r2 - r1)\n",
    "\n",
    "if __name__ == '__main__':\n",
    "    import numpy as np\n",
    "\n",
    "    sim = Simulation(nparticles=1000, radius=0.005, v0=0.05)\n",
    "    dt = 0.02\n",
    "\n",
    "    nit = 500\n",
    "    dnit = nit // 10\n",
    "    for i in range(nit):\n",
    "        if not i % dnit:\n",
    "            print(f'{i}/{nit}')\n",
    "        sim.advance(dt)\n",
    "\n",
    "    # Plot a histogram of the Particles' speeds.\n",
    "    nbins = sim.nparticles // 50\n",
    "    hist, bins, _ = plt.hist([p.get_speed() for p in sim.particles], nbins,\n",
    "                          density=True)\n",
    "    v = (bins[1:] + bins[:-1])/2\n",
    "\n",
    "    # The mean kinetic energy per Particle.\n",
    "    KE = sim.v0**2 / 2\n",
    "    # The Maxwell-Boltzmann equilibrium distribution of speeds.\n",
    "    a = 1 / 2 / KE\n",
    "    f = 2*a * v * np.exp(-a*v**2)\n",
    "    plt.plot(v, f)\n",
    "\n",
    "    plt.show()"
   ]
  },
  {
   "cell_type": "code",
   "execution_count": null,
   "metadata": {},
   "outputs": [],
   "source": [
    "\n"
   ]
  },
  {
   "cell_type": "code",
   "execution_count": null,
   "metadata": {},
   "outputs": [],
   "source": []
  }
 ],
 "metadata": {
  "kernelspec": {
   "display_name": "Python 3",
   "language": "python",
   "name": "python3"
  },
  "language_info": {
   "codemirror_mode": {
    "name": "ipython",
    "version": 3
   },
   "file_extension": ".py",
   "mimetype": "text/x-python",
   "name": "python",
   "nbconvert_exporter": "python",
   "pygments_lexer": "ipython3",
   "version": "3.8.5"
  }
 },
 "nbformat": 4,
 "nbformat_minor": 4
}
