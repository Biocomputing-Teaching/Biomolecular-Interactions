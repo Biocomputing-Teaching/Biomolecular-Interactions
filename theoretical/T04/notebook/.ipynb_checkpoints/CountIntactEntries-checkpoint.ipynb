{
 "cells": [
  {
   "cell_type": "code",
   "execution_count": null,
   "metadata": {},
   "outputs": [],
   "source": [
    "import os\n",
    "import numpy as np\n",
    "import pandas as pd\n",
    "import matplotlib.pyplot as plt\n",
    "import matplotlib"
   ]
  },
  {
   "cell_type": "code",
   "execution_count": null,
   "metadata": {},
   "outputs": [],
   "source": [
    "# Check that the database file exists, otherwise get it\n",
    "if not os.path.exists('../data/intact.txt'):\n",
    "    link = 'ftp://ftp.ebi.ac.uk/pub/databases/intact/current/psimitab/intact.zip'\n",
    "    os.system('wget '+link)\n",
    "    os.system('unzip intact.zip')\n",
    "    os.system('mv intact.txt ../data')\n",
    "    os.system('mv intact_negative.txt ../data')"
   ]
  },
  {
   "cell_type": "code",
   "execution_count": null,
   "metadata": {},
   "outputs": [],
   "source": [
    "# Read intact database data file\n",
    "with open('../data/intact.txt') as txt:\n",
    "    lines = txt.readlines()"
   ]
  },
  {
   "cell_type": "code",
   "execution_count": null,
   "metadata": {},
   "outputs": [],
   "source": [
    "# Select the entry type you want to analyse\n",
    "s = 'Host organism(s)'"
   ]
  },
  {
   "cell_type": "code",
   "execution_count": null,
   "metadata": {},
   "outputs": [],
   "source": [
    "# Gather all the entry types into a dictionary as empty lists\n",
    "data = {}\n",
    "for l in lines[:1]:\n",
    "    entries = [e.replace('#','') for e in l.split('\\t')]\n",
    "    for e in entries:\n",
    "#         print(e) # Uncomment to print the full list of options\n",
    "        if e == s:\n",
    "            data[e] = []"
   ]
  },
  {
   "cell_type": "code",
   "execution_count": null,
   "metadata": {},
   "outputs": [],
   "source": [
    "# Gather all the values inside each entry and store them in lists\n",
    "for l in lines:\n",
    "    for i,e in enumerate(entries):\n",
    "        value = l.split('\\t')[i]\n",
    "        if e == s:\n",
    "            value = value.split('(')[-1].split(')')[0].capitalize()\n",
    "            data[e].append(value)\n",
    "        \n",
    "# Convert the lists to numpy arrays (not sure if necessary)\n",
    "for e in data:\n",
    "    data[e] = np.array(data[e])\n",
    "    \n",
    "# Convert the dictionary into a pandas data frame\n",
    "data = pd.DataFrame(data)"
   ]
  },
  {
   "cell_type": "code",
   "execution_count": null,
   "metadata": {},
   "outputs": [],
   "source": [
    "# Filter to put count values larger than N:\n",
    "N = 5000\n",
    "mc1 = data[data.groupby(s)[s].transform('size') > N]"
   ]
  },
  {
   "cell_type": "code",
   "execution_count": null,
   "metadata": {},
   "outputs": [],
   "source": [
    "plt.figure(dpi=300)\n",
    "mc1[s].value_counts().plot(kind='bar')\n",
    "plt.ylabel('N of entries')\n",
    "# plt.savefig('host_organisms_counts.pdf') # Save to file"
   ]
  }
 ],
 "metadata": {
  "kernelspec": {
   "display_name": "Python 3",
   "language": "python",
   "name": "python3"
  },
  "language_info": {
   "codemirror_mode": {
    "name": "ipython",
    "version": 3
   },
   "file_extension": ".py",
   "mimetype": "text/x-python",
   "name": "python",
   "nbconvert_exporter": "python",
   "pygments_lexer": "ipython3",
   "version": "3.6.10"
  }
 },
 "nbformat": 4,
 "nbformat_minor": 4
}
