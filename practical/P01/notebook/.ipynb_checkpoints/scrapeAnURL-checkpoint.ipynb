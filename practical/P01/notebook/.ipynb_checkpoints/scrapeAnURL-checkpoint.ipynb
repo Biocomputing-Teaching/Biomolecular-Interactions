{
 "cells": [
  {
   "cell_type": "markdown",
   "metadata": {},
   "source": [
    "# Biomolecular Interactions\n",
    "\n",
    "## Practical session P01 - Automatic retrieving data from the Web\n",
    "\n",
    "### Introduction\n",
    "\n",
    "When we deal with databases, it is always complicated to get your data nice and ready to be analyzed. This process is probably the most time-consuming step in [Data Science](https://en.wikipedia.org/wiki/Data_science). We want it to make it easier for you by teaching you a valuable technique called [Web Scraping](https://en.wikipedia.org/wiki/Web_scraping). It is the automated process of getting data from the internet to use later for your analytics. This task can endow your research with statistical significance and help you tackle many real-world problems you may deal with in your future professional careers; after all, the internet is all about data!\n",
    "\n",
    "In the Biomolecular Interactions course, we are dealing with how biology is arranged at the molecular level; how chemical interactions give rise to higher-level biological effects. These are not easy questions to answer but are profoundly fundamental if we want to understand the cell's physical basis. Many databases contain data about biochemical interactions and their chemical activities. We only use one to explain how to get the data; however, you can use the scraping knowledge gathered for almost any other website. \n",
    "\n",
    "In this practical session, we will scrape some simple data about the SARS-CoV-2's Spike protein. Exactly, how many structures there are for this protein, which regions they cover, resolution, and obtention method.\n",
    "\n",
    "We use the following URL:\n",
    "\n",
    "https://www.uniprot.org/uniprot/P0DTC2\n",
    "\n",
    "You need to fill in the details on how to retrieve this data from the given URL in the \"my_spiders.py\" file. Use \"Atom\" to edit that file. For every change made to that file, you need to:\n",
    "\n",
    "* Save the file from your editor\n",
    "\n",
    "$Ctrl+s$\n",
    "\n",
    "* Install the my_scrapy library from the terminal\n",
    "\n",
    "```python setup.py install```\n",
    "* Restart and re-run this notebook\n",
    "\n",
    "$Kernel -> Restart & Run All$\n",
    "\n",
    "We first import the library and then use myScrapingFunction to call the scraping process."
   ]
  },
  {
   "cell_type": "code",
   "execution_count": 3,
   "metadata": {},
   "outputs": [],
   "source": [
    "import my_scrapy"
   ]
  },
  {
   "cell_type": "code",
   "execution_count": 4,
   "metadata": {},
   "outputs": [
    {
     "name": "stderr",
     "output_type": "stream",
     "text": [
      "2021-02-16 13:05:18 [scrapy.core.engine] ERROR: Error while obtaining start requests\n",
      "Traceback (most recent call last):\n",
      "  File \"/home/martin/miniconda3/lib/python3.6/site-packages/scrapy/core/engine.py\", line 129, in _next_request\n",
      "    request = next(slot.start_requests)\n",
      "  File \"/home/martin/miniconda3/lib/python3.6/site-packages/my_scrapy-1.0.0-py3.6.egg/my_scrapy/my_spiders.py\", line 32, in start_requests\n",
      "    yield scrapy.Request('HERE PUT THE SPECIFIC WEB PAGE YOU WANT TO GET DATA FROM')\n",
      "  File \"/home/martin/miniconda3/lib/python3.6/site-packages/scrapy/http/request/__init__.py\", line 25, in __init__\n",
      "    self._set_url(url)\n",
      "  File \"/home/martin/miniconda3/lib/python3.6/site-packages/scrapy/http/request/__init__.py\", line 69, in _set_url\n",
      "    raise ValueError('Missing scheme in request url: %s' % self._url)\n",
      "ValueError: Missing scheme in request url: HERE%20PUT%20THE%20SPECIFIC%20WEB%20PAGE%20YOU%20WANT%20TO%20GET%20DATA%20FROM\n"
     ]
    }
   ],
   "source": [
    "my_scrapy.myScrapingFunction('my_dictionary.json')"
   ]
  },
  {
   "cell_type": "code",
   "execution_count": null,
   "metadata": {},
   "outputs": [],
   "source": []
  }
 ],
 "metadata": {
  "kernelspec": {
   "display_name": "Python 3",
   "language": "python",
   "name": "python3"
  },
  "language_info": {
   "codemirror_mode": {
    "name": "ipython",
    "version": 3
   },
   "file_extension": ".py",
   "mimetype": "text/x-python",
   "name": "python",
   "nbconvert_exporter": "python",
   "pygments_lexer": "ipython3",
   "version": "3.6.10"
  }
 },
 "nbformat": 4,
 "nbformat_minor": 4
}
