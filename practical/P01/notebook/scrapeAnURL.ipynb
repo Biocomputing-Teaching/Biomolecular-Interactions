{
 "cells": [
  {
   "cell_type": "markdown",
   "metadata": {},
   "source": [
    "# Biomolecular Interactions\n",
    "\n",
    "## Practical session P01 - Automatic retrieving data from the Web\n",
    "\n",
    "### Introduction\n",
    "\n",
    "When we deal with databases, it is always complicated to get your data nice and ready to be analyzed. This process is probably the most time-consuming step in [Data Science](https://en.wikipedia.org/wiki/Data_science). We want it to make it easier for you by teaching you a valuable technique called [Web Scraping](https://en.wikipedia.org/wiki/Web_scraping). It is the automated process of getting data from the internet to use later for your analytics. This task can endow your research with statistical significance and help you tackle many real-world problems you may deal with in your future professional careers; after all, the internet is all about data!\n",
    "\n",
    "In the Biomolecular Interactions course, we are dealing with how biology is arranged at the molecular level; how chemical interactions give rise to higher-level biological effects. These are not easy questions to answer but are profoundly fundamental if we want to understand the cell's physical basis. Many databases contain data about biochemical interactions and their chemical activities. We only use one to explain how to get the data; however, you can use the scraping knowledge gathered for almost any other website. \n",
    "\n",
    "\n",
    "In this practical session, we will scrape some simple data about the SARS-CoV-2's Spike protein. Exactly, how many structures there are for this protein, which regions they cover, resolution, and obtention method. But first, we will practice how to scrape data from a more simple website:\n",
    "\n",
    "http://quotes.toscrape.com/\n",
    "\n",
    "Later, for the real case scenario, we use the following URL:\n",
    "\n",
    "https://www.uniprot.org/uniprot/P0DTC2\n",
    "\n",
    "\n",
    "You need to fill in the details on how to retrieve this data from the given URL in the \"my_spiders.py\" file. Use \"Atom\" to edit that file. For every change made to that file, you need to:\n",
    "\n",
    "* Save the file from your editor\n",
    "\n",
    "$Ctrl+s$\n",
    "\n",
    "* Install the my_scrapy library from the terminal\n",
    "\n",
    "```python setup.py install```\n",
    "* Restart and re-run this notebook\n",
    "\n",
    "$Kernel -> Restart & Run All$\n",
    "\n",
    "We first import the libraries we need and then use myScrapingFunction to call the scraping process."
   ]
  },
  {
   "cell_type": "code",
   "execution_count": null,
   "metadata": {},
   "outputs": [],
   "source": [
    "import my_scrapy\n",
    "import json\n",
    "import numpy as np\n",
    "import matplotlib.pyplot as plt"
   ]
  },
  {
   "cell_type": "markdown",
   "metadata": {},
   "source": [
    "The next line will call the function that executes the scrapy spider and access the given URL data. To access the data, we will employ CSS selector language. An example of how the selection syntaxis works can be found in:\n",
    "\n",
    "[CSS selector examples](https://www.freecodecamp.org/news/css-selectors-cheat-sheet/)\n",
    "\n",
    "Alternatively, we can use the selector gadget to highlight only the elements selected by a specific selector."
   ]
  },
  {
   "cell_type": "code",
   "execution_count": null,
   "metadata": {},
   "outputs": [],
   "source": [
    "my_scrapy.myScrapingFunction('my_dictionary.json')"
   ]
  },
  {
   "cell_type": "code",
   "execution_count": null,
   "metadata": {},
   "outputs": [],
   "source": [
    "with open('my_dictionary.json') as jf:\n",
    "    my_dictionary = json.load(jf)"
   ]
  },
  {
   "cell_type": "code",
   "execution_count": null,
   "metadata": {},
   "outputs": [],
   "source": [
    "print(my_dictionary)"
   ]
  }
 ],
 "metadata": {
  "kernelspec": {
   "display_name": "Python 3",
   "language": "python",
   "name": "python3"
  },
  "language_info": {
   "codemirror_mode": {
    "name": "ipython",
    "version": 3
   },
   "file_extension": ".py",
   "mimetype": "text/x-python",
   "name": "python",
   "nbconvert_exporter": "python",
   "pygments_lexer": "ipython3",
   "version": "3.6.10"
  }
 },
 "nbformat": 4,
 "nbformat_minor": 4
}
