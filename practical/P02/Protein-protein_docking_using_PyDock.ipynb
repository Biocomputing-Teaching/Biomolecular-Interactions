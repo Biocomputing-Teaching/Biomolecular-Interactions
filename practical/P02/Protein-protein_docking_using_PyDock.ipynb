{
 "cells": [
  {
   "cell_type": "markdown",
   "id": "detailed-smart",
   "metadata": {},
   "source": [
    "# Biomolecular Interactions\n",
    "\n",
    "## Practical session P02 - Docking with PyDock\n",
    "\n",
    "### Introduction\n",
    "\n",
    "Protein-protein interactions lie at the heart of cellular control mechanisms. Protein molecules in the cell interact either permanently or transiently. Many types of chemical interactions are involved in a protein-protein complex; knowing this interaction can help us understand how many of the biochemical processes involving these proteins are regulated.\n",
    "\n",
    "In this practice session we will employ the docking software PyDock. We will follow the installation steps, and use it to dock two protein partners.  We will repeat the docking procedure using experimental information about which residues pertaing to the protein-protein complex interface. While the docking commands will be run using the terminal, we will load the output files in this notebook to make analyse the docking results."
   ]
  },
  {
   "cell_type": "markdown",
   "id": "decimal-spider",
   "metadata": {},
   "source": [
    "### Getting PyDock\n",
    "\n",
    "The pyDock program needs an Academic License, and therefore pyDock is only distributed by requesting it. You need to ask for a copy of the program at the following link:\n",
    "\n",
    "https://life.bsc.es/pid/pydock/get_pydock.html\n",
    "\n",
    "We will put the downloaded pyDock copy into the programs/pyDock directory.\n",
    "\n",
    "### Installing PyDock\n",
    "\n",
    "One you have a copy of the pyDock program we can proceed to installing it in our computer. To make the docking calculations pyDock uses either FTDock or ZDOCK external programs. In this ocassion, we will procede to install the FTDock program first. FTDock, in turn, depends on the FFTW2.1 library.\n",
    "\n",
    "\n",
    "#### Installing FFTW2\n",
    "\n",
    "In the ./programs/fftw2 folder there is a compresed file, called:\n",
    "\n",
    "fftw-2.1.5.tar.gz\n",
    "\n",
    "We decompress it by executing:\n",
    "\n",
    "```\n",
    "cd programs/fftw2/\n",
    "gunzip fftw-2.1.5.tar.gz\n",
    "tar xvf fftw-2.1.5.tar\n",
    "```\n",
    "\n",
    "Then we enter the newly created folder, fftw-2.1.5, and compile this library with:\n",
    "\n",
    "```\n",
    "./configure --enable-float\n",
    "make\n",
    "```\n",
    "\n",
    "One it has finished we copy the absolute path to the fftw-2.1.5 folder:\n",
    "\n",
    "```\n",
    "pwd\n",
    "```\n",
    "\n",
    "#### Installing FTDock\n",
    "\n",
    "We can now install FTDock. For that, we navigate to the containing folder:\n",
    "\n",
    "```\n",
    "cd ../..\n",
    "cd FTDock\n",
    "```\n",
    "\n",
    "We uncompress the gnu_licensed_3D_Dock.tar file:\n",
    "\n",
    "```\n",
    "tar xvf gnu_licensed_3D_Dock.tar\n",
    "```\n",
    "\n",
    "We enter the following folder and edit the Makefile:\n",
    "\n",
    "```\n",
    "cd 3D_Dock/progs/\n",
    "```\n",
    "\n",
    "For Ubuntu:\n",
    "\n",
    "```\n",
    "gedit Makefile\n",
    "```\n",
    "\n",
    "For Mac:\n",
    "\n",
    "```\n",
    "open -t file.txt\n",
    "```\n",
    "\n",
    "We change the following lines:\n",
    "\n",
    "1) in the FFTW_DIR line, define the full path of the fftw-2.1.5 directory\n",
    "2) in the CC_FLAGS line, remove the -malign-double argument.\n",
    "3) in the CC_FLAGS line, define -mcpu=k8\n",
    "\n",
    "Then we compile the program:\n",
    "\n",
    "```\n",
    "make\n",
    "```\n",
    "\n",
    "Finally, we get the path to this folder so we can tell to pyDock where to find the program.\n",
    "\n",
    "```\n",
    "cd ..\n",
    "pwd\n",
    "```\n",
    "\n",
    "\n",
    "#### Installing pyDock\n",
    "\n",
    "We finally install pyDock, for that we navigate to the folder where the program is located:\n",
    "\n",
    "```\n",
    "cd ../..\n",
    "cd pyDock\n",
    "```\n",
    "\n",
    "We uncompress the file:\n",
    "\n",
    "```\n",
    "tar xvf pyDock3.tgz.tar\n",
    "```\n",
    "\n",
    "We edit the pyDock configuration file, in the etc folder, to give it the path to the FTDOCK program:\n",
    "\n",
    "1) in the FTDOCK= line, define the full path of the 3D_Dock directory\n",
    "\n",
    "```\n",
    "cd pyDock3\n",
    "```\n",
    "\n",
    "For Ubuntu:\n",
    "\n",
    "```\n",
    "gedit etc/pydock.conf\n",
    "```\n",
    "\n",
    "For Mac:\n",
    "\n",
    "```\n",
    "open -t etc/pydock.conf\n",
    "```\n",
    "\n",
    "We get the path to the pyDock3 executable:\n",
    "\n",
    "```\n",
    "pwd\n",
    "```\n",
    "\n",
    "and we enter this path at the end of the .bashrc file:\n",
    "\n",
    "For Ubuntu:\n",
    "\n",
    "```\n",
    "gedit ~/.bashrc\n",
    "```\n",
    "\n",
    "For Mac:\n",
    "\n",
    "```\n",
    "open -t ~/.bashrc\n",
    "```\n",
    "\n",
    "the line is : \n",
    "\n",
    "export PATH=\\\\$PATH:\"Path_to_pyDock3\"\n",
    "\n",
    "where, \"Path_to_pyDock3\", is the previous path. \n",
    "\n",
    "To source again the .bashrc file we can use:\n",
    "\n",
    "```\n",
    "source  ~/.bashrc\n",
    "```\n",
    "\n",
    "or simply open a new terminal."
   ]
  },
  {
   "cell_type": "markdown",
   "id": "subsequent-schedule",
   "metadata": {},
   "source": [
    "### Running pyDock with FTDOCK\n",
    "\n",
    "#### Defining the partners file\n",
    "\n",
    "In the input directory we have two separate protein partners (pdb files) that we will dock:\n",
    "\n",
    "1C5K.pdb, the Tol-Pal system protein TolB\n",
    "\n",
    "and \n",
    "\n",
    "1OAP.pdb, the Peptidoglycan-associated lipoprotein (Pal) protein.\n",
    "\n",
    "We can open in chimera to see the relative orientation of the chains.\n",
    "\n",
    "\n",
    "#### Edit the configuration file\n",
    "\n",
    "PyDock uses one protein as a fixed (receptor) protein , and the other movable (ligand) protein. We need to edit the configuration file T26.ini to give the names of the files that will be the receptor and the ligand molecules. \n",
    "\n",
    "For Ubuntu:\n",
    "\n",
    "```\n",
    "gedit input/T26.ini\n",
    "```\n",
    "\n",
    "For Mac:\n",
    "\n",
    "```\n",
    "open -t input/T26.ini\n",
    "```\n",
    "\n",
    "#### Run the docking calculation\n",
    "\n",
    "To run the docking we will copy the files into a newly created folder:\n",
    "\n",
    "```\n",
    "mkdir docking\n",
    "cp input/* docking\n",
    "```\n",
    "\n",
    "In the new folder we will run the configuration scripts as follow:\n",
    "\n",
    "```\n",
    "cd docking\n",
    "```\n",
    "\n",
    "```\n",
    "pyDock3 T26 setup\n",
    "```\n",
    "\n",
    "The T26 is the prefix we will use for our calculations. Here is the prefix used by pyDock to read the .ini configuration file.\n",
    "\n",
    "After executing this command in the docking folder, there will be many new files created:\n",
    "\n",
    "\n",
    "- T26_lig.pdb       :  Ligand PDB file\n",
    "- T26_lig.pdb.amber :  AMBER parameters for each atom in the ligand PDB structure\n",
    "- T26_lig.pdb.H     :  Ligand PDB file with hydrogens\n",
    "- T26_rec.pdb       :  Receptor PDB file\n",
    "- T26_rec.pdb.amber :  AMBER parameters for each atom in the receptor PDB structure\n",
    "- T26_rec.pdb.H     :  Receptor PDB file with hydrogens\n",
    "\n",
    "FTDOCK expects to find the PDB files with extension .parsed, thus we just copy the receptor and ligand pdb files to create a \".parsed\" named version:\n",
    "\n",
    "```\n",
    "cp T26_lig.pdb T26_lig.parsed\n",
    "cp T26_rec.pdb T26_rec.parsed\n",
    "```\n",
    "\n",
    "After copying the files we execute:\n",
    "\n",
    "```\n",
    "pyDock3 T26 ftdock\n",
    "```\n",
    "\n",
    "This will sample the protein docking conformations using Fast Fourier Transform (FFT) methods, and can can take several minutes to finish. The output will be stored in the \n",
    "\n",
    "\n",
    "#### Transform the FTDOCK output to rotational and translation matrix\n",
    "\n",
    "For each conformation, we need to transform the output data from FTDOCK (T26.ftdock), in which each solution is represented by the cartesian position of the ligand and the rotation based on Euler angles, to the rotation and translation matrix that transforms the original ligand into the conformations generated by FTDOCK.\n",
    "\n",
    "To run this we will execute:\n",
    "\n",
    "```\n",
    "pyDock3 T26 rotftdoc\n",
    "```\n",
    "\n",
    "The calculation is fast and creates a T26.rot file with the transformation matrices for all the produced docking poses.\n",
    "\n",
    "####  Scoring using the pyDock energy function\n",
    "\n",
    "In order to exemplify the socring calculation we will only employ a 100 docked poses, although you can find full scored outputs in the output folder.\n",
    "\n",
    "First, we back up the .rot file:\n",
    "\n",
    "```\n",
    "cp T26.rot T26.rot.original\n",
    "```\n",
    "\n",
    "Then, we extract only 100 lines from the file using sed:\n",
    "\n",
    "```\n",
    "sed -n -e '11,110p' T26.rot.original > T26.rot\n",
    "```\n",
    "\n",
    "Then, for the scoring we ran:\n",
    "\n",
    "```\n",
    "pyDock3 T26 dockser  > dockser.log  &\n",
    "```\n",
    "\n",
    "After the calculation is finished it will produce an energy file called T26.ene, we can read that file to see its output:"
   ]
  },
  {
   "cell_type": "code",
   "execution_count": 1,
   "id": "modified-newcastle",
   "metadata": {},
   "outputs": [
    {
     "name": "stdout",
     "output_type": "stream",
     "text": [
      "        Conf         Ele      Desolv         VDW       Total        RANK\n",
      "\n",
      "------------------------------------------------------------------------\n",
      "\n",
      "         110     -14.851      -6.324      60.971     -15.078           1\n",
      "\n",
      "          48     -13.120      -3.728      52.400     -11.608           2\n",
      "\n",
      "          62     -18.753       7.649      -4.669     -11.570           3\n",
      "\n",
      "          20     -18.009       2.118      61.148      -9.776           4\n",
      "\n",
      "          81      -3.293     -10.031      42.928      -9.031           5\n",
      "\n",
      "          56      -8.531      -3.961      57.233      -6.769           6\n",
      "\n",
      "          98     -17.903       6.800      47.073      -6.395           7\n",
      "\n",
      "         102     -17.413       7.861      45.336      -5.019           8\n",
      "\n",
      "          64      -5.200      -2.621      29.279      -4.893           9\n",
      "\n",
      "          47     -10.253       0.589      52.914      -4.373          10\n",
      "\n",
      "         104     -11.966      -5.053     133.564      -3.662          11\n",
      "\n",
      "          60     -13.438       9.870       0.594      -3.509          12\n",
      "\n",
      "          12      -8.386      -2.485      81.948      -2.676          13\n",
      "\n",
      "          49     -11.384       1.632      71.702      -2.582          14\n",
      "\n",
      "          40     -20.016       9.508      87.304      -1.778          15\n",
      "\n",
      "          27      -5.878      -2.478      67.757      -1.580          16\n",
      "\n",
      "         106     -12.779       6.995      45.273      -1.257          17\n",
      "\n",
      "         103     -10.074       7.170      18.639      -1.040          18\n",
      "\n",
      "          11      -9.608       4.907      41.095      -0.591          19\n",
      "\n",
      "          21     -12.826       6.178      69.081       0.260          20\n",
      "\n",
      "          71      -6.995      -5.892     132.731       0.386          21\n",
      "\n",
      "          25      -9.010       4.576      53.595       0.925          22\n",
      "\n",
      "          14     -13.822       9.565      52.562       0.999          23\n",
      "\n",
      "          54      -5.074       1.777      51.080       1.811          24\n",
      "\n",
      "          17      -4.803      -3.031      98.650       2.031          25\n",
      "\n",
      "          44     -10.320       6.928      58.130       2.421          26\n",
      "\n",
      "          22      -7.033       2.864      69.910       2.822          27\n",
      "\n",
      "          89      -7.750       6.285      43.020       2.837          28\n",
      "\n",
      "          91      -4.003       0.500      68.485       3.346          29\n",
      "\n",
      "         101      -0.782      -3.128      74.703       3.560          30\n",
      "\n",
      "         109      -7.273       8.544      31.503       4.421          31\n",
      "\n",
      "          26      -2.710      -3.311     106.054       4.585          32\n",
      "\n",
      "          52      -6.202       2.566      83.158       4.680          33\n",
      "\n",
      "          23      -5.511       3.223      71.058       4.818          34\n",
      "\n",
      "          28      -5.505       8.465      21.118       5.072          35\n",
      "\n",
      "          37      -5.390       6.377      43.745       5.362          36\n",
      "\n",
      "          57      -6.658       6.644      54.072       5.393          37\n",
      "\n",
      "          75      -2.579      -1.889     100.863       5.618          38\n",
      "\n",
      "          29     -12.490       4.959     135.733       6.042          39\n",
      "\n",
      "          69      -7.411       6.572      68.875       6.049          40\n",
      "\n",
      "          67      -1.831      -1.296      95.105       6.384          41\n",
      "\n",
      "          90      -5.529       4.593      81.218       7.185          42\n",
      "\n",
      "          68      -5.380       5.439      76.094       7.669          43\n",
      "\n",
      "          46      -3.174       3.928      70.584       7.813          44\n",
      "\n",
      "          16      -6.113       3.414     110.001       8.301          45\n",
      "\n",
      "          53      -1.323       3.469      65.549       8.701          46\n",
      "\n",
      "          58      -6.410       7.811      75.152       8.916          47\n",
      "\n",
      "          43      -2.773      10.056      16.422       8.925          48\n",
      "\n",
      "          92       1.098      -0.320      83.885       9.167          49\n",
      "\n",
      "          95      -4.127      11.280      21.507       9.303          50\n",
      "\n",
      "          66      -8.321      10.335      73.965       9.411          51\n",
      "\n",
      "          36      -6.872      12.232      40.657       9.426          52\n",
      "\n",
      "         105      -0.617       3.713      64.083       9.505          53\n",
      "\n",
      "          83      -9.820      14.169      63.044      10.653          54\n",
      "\n",
      "          61      -8.781      13.812      61.968      11.227          55\n",
      "\n",
      "          50      -3.564       8.552      65.349      11.523          56\n",
      "\n",
      "         108       3.153       0.394      80.472      11.594          57\n",
      "\n",
      "          84      -8.152       9.692     104.090      11.949          58\n",
      "\n",
      "          87      -2.108       5.495      90.989      12.486          59\n",
      "\n",
      "          79      -4.107      10.111      67.973      12.801          60\n",
      "\n",
      "          24      -4.608      13.762      39.617      13.116          61\n",
      "\n",
      "          99      -4.209       8.311      90.839      13.187          62\n",
      "\n",
      "          32      -3.724       6.213     111.435      13.633          63\n",
      "\n",
      "          19       1.526       4.637      77.945      13.958          64\n",
      "\n",
      "          88      -2.456       3.261     133.206      14.125          65\n",
      "\n",
      "          96       2.872      -0.464     117.352      14.143          66\n",
      "\n",
      "          55      -9.048      17.523      56.981      14.173          67\n",
      "\n",
      "          65      -8.297      17.438      52.959      14.437          68\n",
      "\n",
      "          42      -3.690      10.769      76.064      14.686          69\n",
      "\n",
      "          35       1.215       5.597      82.440      15.056          70\n",
      "\n",
      "          93      -3.324      11.624      70.610      15.361          71\n",
      "\n",
      "          39      -2.383      12.883      55.131      16.014          72\n",
      "\n",
      "          94       7.366       4.507      45.001      16.374          73\n",
      "\n",
      "          74     -13.841      26.553      37.338      16.445          74\n",
      "\n",
      "          31      -0.577       9.460      82.114      17.094          75\n",
      "\n",
      "          73       1.179      11.541      44.374      17.158          76\n",
      "\n",
      "          77      -1.519      16.118      26.073      17.206          77\n",
      "\n",
      "          72      -7.594      17.737      73.272      17.470          78\n",
      "\n",
      "          34      -5.522      16.564      64.572      17.499          79\n",
      "\n",
      "          30      -1.195       9.014     102.188      18.038          80\n",
      "\n",
      "          18      -2.821      13.434      74.313      18.044          81\n",
      "\n",
      "          97      -1.520      17.194      34.430      19.117          82\n",
      "\n",
      "          85      -6.535      16.313      98.501      19.629          83\n",
      "\n",
      "          78       0.546       5.304     140.654      19.915          84\n",
      "\n",
      "          82      -5.277      16.688      85.755      19.987          85\n",
      "\n",
      "          76      -5.103      23.405      19.516      20.253          86\n",
      "\n",
      "          15      -1.624      14.367      79.884      20.732          87\n",
      "\n",
      "          70      -1.147      17.281      49.970      21.131          88\n",
      "\n",
      "          41       2.238      11.202      77.406      21.181          89\n",
      "\n",
      "          59       5.761      10.916      50.275      21.705          90\n",
      "\n",
      "          51       7.078      11.469      38.942      22.441          91\n",
      "\n",
      "          86       4.739      11.926      65.411      23.206          92\n",
      "\n",
      "          45      -5.856      18.662     106.519      23.458          93\n",
      "\n",
      "          80       1.163      18.446      45.954      24.205          94\n",
      "\n",
      "          13       0.549      13.038     115.839      25.171          95\n",
      "\n",
      "         100       5.903      11.897      79.366      25.736          96\n",
      "\n",
      "          63       2.484      23.242      14.587      27.185          97\n",
      "\n",
      "         107       2.236      16.373      86.445      27.253          98\n",
      "\n",
      "          38       1.168      19.748      65.437      27.459          99\n",
      "\n",
      "          33       8.853      17.043      43.855      30.281         100\n",
      "\n"
     ]
    }
   ],
   "source": [
    "with open('docking/T26.ene') as enef:\n",
    "    for l in enef:\n",
    "        print(l)"
   ]
  },
  {
   "cell_type": "markdown",
   "id": "accepting-navigator",
   "metadata": {},
   "source": [
    "The meaning of each term is as follows:\n",
    "\n",
    "    1) Conf: conformation number of the docking pose (same as that in the rot file, last column)\n",
    "\n",
    "    2) Ele: Electrostatic energy component\n",
    "\n",
    "    3) Delsov: Desolvation energy component\n",
    "\n",
    "    4) VDW: Van der Waals energy component (term weighted to 0.1 by default)\n",
    "\n",
    "    5) Total: Total binding energy (Ele + Desolv + 0.1*VDW)\n",
    "\n",
    "    6) RANK: conformation rank according to its computed binding energy\n",
    "\n",
    "We create a function to parse this file as a pandas data frame:"
   ]
  },
  {
   "cell_type": "code",
   "execution_count": 2,
   "id": "suffering-absolute",
   "metadata": {},
   "outputs": [],
   "source": [
    "import pandas as pd\n",
    "import numpy as np"
   ]
  },
  {
   "cell_type": "code",
   "execution_count": 3,
   "id": "green-transformation",
   "metadata": {},
   "outputs": [],
   "source": [
    "def parseEnergy(energy_file):\n",
    "    \n",
    "    scores = {}\n",
    "    \n",
    "    # Read the score file\n",
    "    with open(energy_file) as ef:\n",
    "        \n",
    "        # Iterate each line in the file with an index (i)\n",
    "        for i,l in enumerate(ef):\n",
    "            \n",
    "            # From the first line (index=0) extract the terms\n",
    "            if i == 0:\n",
    "                terms = l.split()\n",
    "                \n",
    "            # From the remaining lines extract the values\n",
    "            elif not l.startswith('---'):\n",
    "                \n",
    "                # Iterate each value with a second index (j)\n",
    "                for j,value in enumerate(l.split()):\n",
    "                    \n",
    "                    # Get the term corresponding to that j index \n",
    "                    term = terms[j]\n",
    "                    \n",
    "                    # Create an entry in the scores dictionary if the term is not in it. \n",
    "                    if term not in scores:\n",
    "                        \n",
    "                        # Create a list to store all the values corresponding to this term\n",
    "                        scores[term] = []\n",
    "                        \n",
    "                    # Append the values to each corresponding term list\n",
    "                    \n",
    "                    if term == 'Conf' or term == 'RANK':\n",
    "                        scores[term].append(int(value))\n",
    "                    else:\n",
    "                        scores[term].append(float(value))\n",
    "                        \n",
    "           \n",
    "    # Convert to a numpy arrya each list of term values \n",
    "    for term in scores:\n",
    "        scores[term] = np.array(scores[term])\n",
    "        \n",
    "    # Convert the dictionary of numpy arrays to a Pandas DataFrame object\n",
    "    scores = pd.DataFrame(scores)\n",
    "    \n",
    "    # Set the index of the data frame as the RANK term\n",
    "    scores = scores.set_index('RANK')\n",
    "    \n",
    "    # Return the data frame\n",
    "    return scores"
   ]
  },
  {
   "cell_type": "markdown",
   "id": "beautiful-rolling",
   "metadata": {},
   "source": [
    "Now we this function to read the energy file:"
   ]
  },
  {
   "cell_type": "code",
   "execution_count": 4,
   "id": "documented-sword",
   "metadata": {},
   "outputs": [
    {
     "name": "stdout",
     "output_type": "stream",
     "text": [
      "      Conf     Ele  Desolv     VDW   Total\n",
      "RANK                                      \n",
      "1      110 -14.851  -6.324  60.971 -15.078\n",
      "2       48 -13.120  -3.728  52.400 -11.608\n",
      "3       62 -18.753   7.649  -4.669 -11.570\n",
      "4       20 -18.009   2.118  61.148  -9.776\n",
      "5       81  -3.293 -10.031  42.928  -9.031\n",
      "...    ...     ...     ...     ...     ...\n",
      "96     100   5.903  11.897  79.366  25.736\n",
      "97      63   2.484  23.242  14.587  27.185\n",
      "98     107   2.236  16.373  86.445  27.253\n",
      "99      38   1.168  19.748  65.437  27.459\n",
      "100     33   8.853  17.043  43.855  30.281\n",
      "\n",
      "[100 rows x 5 columns]\n"
     ]
    }
   ],
   "source": [
    "# Read the energy file with our parse function\n",
    "energies = parseEnergy('docking/T26.ene')\n",
    "\n",
    "# Print the data frame \n",
    "print(energies)"
   ]
  },
  {
   "cell_type": "code",
   "execution_count": 5,
   "id": "careful-turkish",
   "metadata": {},
   "outputs": [],
   "source": [
    "import matplotlib.pyplot as plt"
   ]
  },
  {
   "cell_type": "markdown",
   "id": "comparative-excellence",
   "metadata": {},
   "source": [
    "With Pandas can quickly make a box plot to see the distribution of values"
   ]
  },
  {
   "cell_type": "code",
   "execution_count": 6,
   "id": "great-modification",
   "metadata": {},
   "outputs": [
    {
     "data": {
      "text/plain": [
       "Text(0, 0.5, 'pyDock energy units')"
      ]
     },
     "execution_count": 6,
     "metadata": {},
     "output_type": "execute_result"
    },
    {
     "data": {
      "image/png": "[encoded data removed]",
      "text/plain": [
       "<Figure size 432x288 with 1 Axes>"
      ]
     },
     "metadata": {
      "needs_background": "light"
     },
     "output_type": "display_data"
    }
   ],
   "source": [
    "energies.boxplot()\n",
    "plt.title('Energy values from the T26.ene file')\n",
    "plt.ylabel('pyDock energy units')"
   ]
  },
  {
   "cell_type": "markdown",
   "id": "comprehensive-agenda",
   "metadata": {},
   "source": [
    "To evaluate the results of the Docking calculation we need to compare it with the known protein complex (The structure is in the native folder) \n",
    "\n",
    "To automate the RMSD calculation we are going to employ a Python library that is specialized in analyzing molecular dynamic trajectories (MDTraj). The steps to get the RMSD are as follow:\n",
    "\n",
    "1) Generate the docking pose's PDB file\n",
    "2) Load the docking pose's PDB file\n",
    "3) Load the native pose's PDB file\n",
    "4) Align the two structure\n",
    "5) Calculate the RMSD to the native\n",
    "\n",
    "To extract a specific conformation we use the following command in our docking folder:\n",
    "\n",
    "```\n",
    "pyDock3 T26 makePDB rank1 rank2\n",
    "```\n",
    "\n",
    "Where, rank1 and rank2 define the range of conformations to extract. \n",
    " \n",
    "Let's extract the first ranked conformation:\n",
    "\n",
    "```\n",
    "pyDock3 T26 makePDB 1 1\n",
    "```\n",
    "\n",
    "This commands creates the file T26_conf.pdb, where conf is the index of the first raked conformation. Now we import MDtraj library"
   ]
  },
  {
   "cell_type": "code",
   "execution_count": 7,
   "id": "fifteen-factory",
   "metadata": {},
   "outputs": [],
   "source": [
    "import mdtraj as md"
   ]
  },
  {
   "cell_type": "markdown",
   "id": "antique-spectacular",
   "metadata": {},
   "source": [
    "We now load the native and this conformation with mdtraj"
   ]
  },
  {
   "cell_type": "code",
   "execution_count": 8,
   "id": "comfortable-lottery",
   "metadata": {},
   "outputs": [
    {
     "ename": "OSError",
     "evalue": "No such file: docking/T26_110.pdb",
     "output_type": "error",
     "traceback": [
      "\u001b[0;31m---------------------------------------------------------------------------\u001b[0m",
      "\u001b[0;31mOSError\u001b[0m                                   Traceback (most recent call last)",
      "\u001b[0;32m<ipython-input-8-a6b6940920db>\u001b[0m in \u001b[0;36m<module>\u001b[0;34m\u001b[0m\n\u001b[1;32m      1\u001b[0m \u001b[0mnative\u001b[0m \u001b[0;34m=\u001b[0m \u001b[0mmd\u001b[0m\u001b[0;34m.\u001b[0m\u001b[0mload\u001b[0m\u001b[0;34m(\u001b[0m\u001b[0;34m'native/2HQS_native.pdb'\u001b[0m\u001b[0;34m)\u001b[0m\u001b[0;34m\u001b[0m\u001b[0;34m\u001b[0m\u001b[0m\n\u001b[0;32m----> 2\u001b[0;31m \u001b[0mdocked\u001b[0m \u001b[0;34m=\u001b[0m \u001b[0mmd\u001b[0m\u001b[0;34m.\u001b[0m\u001b[0mload\u001b[0m\u001b[0;34m(\u001b[0m\u001b[0;34m'docking/T26_110.pdb'\u001b[0m\u001b[0;34m)\u001b[0m\u001b[0;34m\u001b[0m\u001b[0;34m\u001b[0m\u001b[0m\n\u001b[0m\u001b[1;32m      3\u001b[0m \u001b[0;34m\u001b[0m\u001b[0m\n\u001b[1;32m      4\u001b[0m \u001b[0mprint\u001b[0m\u001b[0;34m(\u001b[0m\u001b[0mnative\u001b[0m\u001b[0;34m)\u001b[0m\u001b[0;34m\u001b[0m\u001b[0;34m\u001b[0m\u001b[0m\n\u001b[1;32m      5\u001b[0m \u001b[0mprint\u001b[0m\u001b[0;34m(\u001b[0m\u001b[0mdocked\u001b[0m\u001b[0;34m)\u001b[0m\u001b[0;34m\u001b[0m\u001b[0;34m\u001b[0m\u001b[0m\n",
      "\u001b[0;32m~/miniconda3/lib/python3.6/site-packages/mdtraj/core/trajectory.py\u001b[0m in \u001b[0;36mload\u001b[0;34m(filename_or_filenames, discard_overlapping_frames, **kwargs)\u001b[0m\n\u001b[1;32m    424\u001b[0m \u001b[0;34m\u001b[0m\u001b[0m\n\u001b[1;32m    425\u001b[0m     \u001b[0;32mif\u001b[0m \u001b[0mloader\u001b[0m\u001b[0;34m.\u001b[0m\u001b[0m__name__\u001b[0m \u001b[0;32mnot\u001b[0m \u001b[0;32min\u001b[0m \u001b[0;34m[\u001b[0m\u001b[0;34m'load_dtr'\u001b[0m\u001b[0;34m]\u001b[0m\u001b[0;34m:\u001b[0m\u001b[0;34m\u001b[0m\u001b[0;34m\u001b[0m\u001b[0m\n\u001b[0;32m--> 426\u001b[0;31m         \u001b[0m_assert_files_exist\u001b[0m\u001b[0;34m(\u001b[0m\u001b[0mfilename_or_filenames\u001b[0m\u001b[0;34m)\u001b[0m\u001b[0;34m\u001b[0m\u001b[0;34m\u001b[0m\u001b[0m\n\u001b[0m\u001b[1;32m    427\u001b[0m     \u001b[0;32melse\u001b[0m\u001b[0;34m:\u001b[0m\u001b[0;34m\u001b[0m\u001b[0;34m\u001b[0m\u001b[0m\n\u001b[1;32m    428\u001b[0m         \u001b[0m_assert_files_or_dirs_exist\u001b[0m\u001b[0;34m(\u001b[0m\u001b[0mfilename_or_filenames\u001b[0m\u001b[0;34m)\u001b[0m\u001b[0;34m\u001b[0m\u001b[0;34m\u001b[0m\u001b[0m\n",
      "\u001b[0;32m~/miniconda3/lib/python3.6/site-packages/mdtraj/core/trajectory.py\u001b[0m in \u001b[0;36m_assert_files_exist\u001b[0;34m(filenames)\u001b[0m\n\u001b[1;32m     97\u001b[0m     \u001b[0;32mfor\u001b[0m \u001b[0mfn\u001b[0m \u001b[0;32min\u001b[0m \u001b[0mfilenames\u001b[0m\u001b[0;34m:\u001b[0m\u001b[0;34m\u001b[0m\u001b[0;34m\u001b[0m\u001b[0m\n\u001b[1;32m     98\u001b[0m         \u001b[0;32mif\u001b[0m \u001b[0;32mnot\u001b[0m \u001b[0;34m(\u001b[0m\u001b[0mos\u001b[0m\u001b[0;34m.\u001b[0m\u001b[0mpath\u001b[0m\u001b[0;34m.\u001b[0m\u001b[0mexists\u001b[0m\u001b[0;34m(\u001b[0m\u001b[0mfn\u001b[0m\u001b[0;34m)\u001b[0m \u001b[0;32mand\u001b[0m \u001b[0mos\u001b[0m\u001b[0;34m.\u001b[0m\u001b[0mpath\u001b[0m\u001b[0;34m.\u001b[0m\u001b[0misfile\u001b[0m\u001b[0;34m(\u001b[0m\u001b[0mfn\u001b[0m\u001b[0;34m)\u001b[0m\u001b[0;34m)\u001b[0m\u001b[0;34m:\u001b[0m\u001b[0;34m\u001b[0m\u001b[0;34m\u001b[0m\u001b[0m\n\u001b[0;32m---> 99\u001b[0;31m             \u001b[0;32mraise\u001b[0m \u001b[0mIOError\u001b[0m\u001b[0;34m(\u001b[0m\u001b[0;34m'No such file: %s'\u001b[0m \u001b[0;34m%\u001b[0m \u001b[0mfn\u001b[0m\u001b[0;34m)\u001b[0m\u001b[0;34m\u001b[0m\u001b[0;34m\u001b[0m\u001b[0m\n\u001b[0m\u001b[1;32m    100\u001b[0m \u001b[0;34m\u001b[0m\u001b[0m\n\u001b[1;32m    101\u001b[0m \u001b[0;34m\u001b[0m\u001b[0m\n",
      "\u001b[0;31mOSError\u001b[0m: No such file: docking/T26_110.pdb"
     ]
    }
   ],
   "source": [
    "native = md.load('native/2HQS_native.pdb')\n",
    "docked = md.load('docking/T26_110.pdb')\n",
    "\n",
    "print(native)\n",
    "print(docked)"
   ]
  },
  {
   "cell_type": "markdown",
   "id": "hindu-destruction",
   "metadata": {},
   "source": [
    "We see tath the docking pose has two residues more than our native structure. We can inspect which residues are missing by aligning the sequences with chimera:\n",
    "\n",
    "\n",
    "```\n",
    "chimera 1OAP.pdb 1C5K.pdb ../native/2HQS_native.pdb \n",
    "```\n",
    "\n",
    "the two first residues from 1OAP.pdb are missing from the native file. We identify their indexes from the mdtraj object as the first two residues of the second chain in the docked structure. We save the indexes of the alpha-carbon (CA) atoms for all common residues between the two structures."
   ]
  },
  {
   "cell_type": "code",
   "execution_count": null,
   "id": "electric-retailer",
   "metadata": {},
   "outputs": [],
   "source": [
    "# Save CA indexes of native pdb\n",
    "native_CA_atoms = []\n",
    "for chain in native.topology.chains:\n",
    "    for residue in chain.residues:\n",
    "        for atom in residue.atoms:\n",
    "            if atom.name == 'CA':\n",
    "                native_CA_atoms.append(atom.index)"
   ]
  },
  {
   "cell_type": "code",
   "execution_count": null,
   "id": "twenty-grain",
   "metadata": {},
   "outputs": [],
   "source": [
    "# Save CA indexes of docked pdb\n",
    "docking_CA_atoms = []\n",
    "for chain in docked.topology.chains:\n",
    "    for i,residue in enumerate(chain.residues):\n",
    "        if chain.index == 1 and i in [0,1]:\n",
    "            continue\n",
    "        else:\n",
    "            for atom in residue.atoms:\n",
    "                if atom.name == 'CA':\n",
    "                    docking_CA_atoms.append(atom.index)"
   ]
  },
  {
   "cell_type": "markdown",
   "id": "jewish-merchandise",
   "metadata": {},
   "source": [
    "Now we check that both set of indexes match in number."
   ]
  },
  {
   "cell_type": "code",
   "execution_count": null,
   "id": "transparent-lotus",
   "metadata": {},
   "outputs": [],
   "source": [
    "print(len(native_CA_atoms))\n",
    "print(len(docking_CA_atoms))"
   ]
  },
  {
   "cell_type": "markdown",
   "id": "involved-wyoming",
   "metadata": {},
   "source": [
    "Finally, we procede to calculate the RMSD as follow:"
   ]
  },
  {
   "cell_type": "code",
   "execution_count": null,
   "id": "legendary-strike",
   "metadata": {},
   "outputs": [],
   "source": [
    "# Slice the trajectories to get only alpha carbon atoms\n",
    "native_ca = native.atom_slice(native_CA_atoms)\n",
    "docked_ca = docked.atom_slice(docking_CA_atoms)\n",
    "\n",
    "# Superimpose docked structure to the native\n",
    "docked_ca = docked_ca.superpose(native_ca)\n",
    "\n",
    "# Calculate RMSD between the structures\n",
    "rmsd = md.rmsd(native_ca, docked_ca)[0]*10 # Convert to angstroms\n",
    "\n",
    "print(rmsd)"
   ]
  },
  {
   "cell_type": "markdown",
   "id": "medium-coffee",
   "metadata": {},
   "source": [
    "We observe that the RMSD is quite high. We can make a function to automatize the whole process to evaluate the remaining conformations:"
   ]
  },
  {
   "cell_type": "code",
   "execution_count": null,
   "id": "standing-happening",
   "metadata": {},
   "outputs": [],
   "source": [
    "import os"
   ]
  },
  {
   "cell_type": "code",
   "execution_count": null,
   "id": "golden-psychology",
   "metadata": {},
   "outputs": [],
   "source": [
    "def appendRMSD(scores, native_traj, docking_directory='docking'):\n",
    "    \n",
    "    RMSDs = []\n",
    "    \n",
    "    for rank,conf in scores['Conf'].iteritems():\n",
    "        \n",
    "        # Extract specific rank PDB \n",
    "        os.chdir(docking_directory)\n",
    "        os.system('pyDock3 T26 makePDB '+str(rank)+' '+str(rank))\n",
    "        os.chdir('..')\n",
    "        \n",
    "        # Load pdb into mdtraj\n",
    "        docked_pdb = docking_directory+'/T26_'+str(conf)+'.pdb'\n",
    "        docked = md.load(docked_pdb)\n",
    "        \n",
    "        # Remove pdb\n",
    "        os.remove(docked_pdb)\n",
    "        \n",
    "        # Save CA indexes of native pdb\n",
    "        native_CA_atoms = []\n",
    "        for chain in native.topology.chains:\n",
    "            for residue in chain.residues:\n",
    "                for atom in residue.atoms:\n",
    "                    if atom.name == 'CA':\n",
    "                        native_CA_atoms.append(atom.index)\n",
    "                        \n",
    "        # Save CA indexes of docked pdb\n",
    "        docking_CA_atoms = []\n",
    "        for chain in docked.topology.chains:\n",
    "            for i,residue in enumerate(chain.residues):\n",
    "                if chain.index == 1 and i in [0,1]:\n",
    "                    continue\n",
    "                else:\n",
    "                    for atom in residue.atoms:\n",
    "                        if atom.name == 'CA':\n",
    "                            docking_CA_atoms.append(atom.index)\n",
    "        \n",
    "        # Make sure the number of atoms between docked and native is the same\n",
    "        assert len(native_CA_atoms) == len(docking_CA_atoms)\n",
    "        \n",
    "        # Slice the trajectories to get only alpha carbon atoms\n",
    "        native_ca = native.atom_slice(native_CA_atoms)\n",
    "        docked_ca = docked.atom_slice(docking_CA_atoms)\n",
    "\n",
    "        # Superimpose docked structure to the native\n",
    "        docked_ca = docked_ca.superpose(native_ca)\n",
    "\n",
    "        # Calculate RMSD between the structures\n",
    "        RMSDs.append(md.rmsd(native_ca, docked_ca)[0]*10) # Convert to angstroms\n",
    "        \n",
    "        \n",
    "    scores['RMSD'] = RMSDs\n",
    "        \n",
    "    # Add RMSDs to scores array            \n",
    "    return np.array(RMSDs)"
   ]
  },
  {
   "cell_type": "code",
   "execution_count": null,
   "id": "filled-peter",
   "metadata": {},
   "outputs": [],
   "source": [
    "rmsds = appendRMSD(energies, native)"
   ]
  },
  {
   "cell_type": "code",
   "execution_count": null,
   "id": "attached-circulation",
   "metadata": {
    "scrolled": true
   },
   "outputs": [],
   "source": [
    "# Plot RMSD vs energies\n",
    "print('Pearson correlations:')\n",
    "for e in energies:\n",
    "    if e not in ['RMSD', 'Conf']:\n",
    "        plt.figure()\n",
    "        plt.scatter(energies['RMSD'], energies[e])\n",
    "        plt.title('RMSD vs '+e)\n",
    "        plt.xlabel('RMSD [angstroms]')\n",
    "        plt.ylabel(e+' [pyDock energy units]')\n",
    "        print('\\t', e, np.corrcoef(energies['RMSD'], energies[e])[0][1])"
   ]
  },
  {
   "cell_type": "markdown",
   "id": "continuous-pipeline",
   "metadata": {},
   "source": [
    "For time reasons we have only used a hundred poses, however one typically would run a much higher number of docking trajectories. The output for a 10000 poses run can be found in the output folder. We load the energy files from that file:"
   ]
  },
  {
   "cell_type": "code",
   "execution_count": null,
   "id": "equivalent-reference",
   "metadata": {},
   "outputs": [],
   "source": [
    "all_energies = parseEnergy('output/T26.ene')"
   ]
  },
  {
   "cell_type": "code",
   "execution_count": null,
   "id": "classical-accuracy",
   "metadata": {},
   "outputs": [],
   "source": [
    "print(all_energies)"
   ]
  },
  {
   "cell_type": "code",
   "execution_count": null,
   "id": "partial-steal",
   "metadata": {},
   "outputs": [],
   "source": [
    "all_energies.boxplot()\n",
    "plt.ylim(-60,200)\n",
    "plt.title('Energy values from the output/T26.ene file')\n",
    "plt.ylabel('pyDock energy units')"
   ]
  },
  {
   "cell_type": "markdown",
   "id": "weekly-progress",
   "metadata": {},
   "source": [
    "The calculation of the RMSDs to the native configuration for the 10000 poses would also take a couple of hours to caculate, therefore we can read the numpy array containing the corresponding RMSDs from the file T26.rmsds.npy in the output folder. "
   ]
  },
  {
   "cell_type": "code",
   "execution_count": null,
   "id": "judicial-convert",
   "metadata": {},
   "outputs": [],
   "source": [
    "rmsds = np.loadtxt('output/T26.rmsds.npy')"
   ]
  },
  {
   "cell_type": "markdown",
   "id": "atmospheric-roberts",
   "metadata": {},
   "source": [
    "Let's add the rmsds to the 10000 poses energy scores array:"
   ]
  },
  {
   "cell_type": "code",
   "execution_count": null,
   "id": "interesting-theme",
   "metadata": {},
   "outputs": [],
   "source": [
    "all_energies['RMSD'] = rmsds.tolist()"
   ]
  },
  {
   "cell_type": "markdown",
   "id": "first-preliminary",
   "metadata": {},
   "source": [
    "We can now depict the conformational landscape explored by the full docking algorithm according to the RMSD to the native configuration, and calculate if there is any correlation between the docked energies and this RMSD:"
   ]
  },
  {
   "cell_type": "code",
   "execution_count": null,
   "id": "hired-contact",
   "metadata": {
    "scrolled": false
   },
   "outputs": [],
   "source": [
    "# Plot RMSD vs energies\n",
    "print('Pearson correlations:')\n",
    "for e in all_energies:\n",
    "    if e not in ['RMSD', 'Conf']:\n",
    "        plt.figure()\n",
    "        plt.scatter(all_energies['RMSD'], all_energies[e])\n",
    "        plt.title('RMSD vs '+e)\n",
    "        plt.xlabel('RMSD [angstroms]')\n",
    "        plt.ylabel(e+' [pyDock energy units]')\n",
    "        print('\\t', e, np.corrcoef(all_energies['RMSD'], all_energies[e])[0][1])"
   ]
  },
  {
   "cell_type": "markdown",
   "id": "surgical-directive",
   "metadata": {},
   "source": [
    "We observe that very few near native conformations are found, but a very big conformational space was explored by the simulation."
   ]
  },
  {
   "cell_type": "markdown",
   "id": "japanese-classics",
   "metadata": {},
   "source": [
    "### Including experimental restraints in the pyDock energy function scoring\n",
    "\n",
    "The pyDock energy function failed to identify the near-native conformations, however, if we have experimental data about mutations affecting the interaction between the protein partners, we can include them in the scoring procedure. Let's rescore our poses using the following information inside our T26.ini file:\n",
    "\n",
    "[receptor]\n",
    "\n",
    "restr   = A.Hid.147,A.Arg.36\n",
    "\n",
    "\n",
    "[ligand]\n",
    "\n",
    "restr   = B.Phe.52\n",
    "\n",
    "We add this extra lines to our T26.ini file, after the lines appearing in each section. After this, we run the following command to rescore the poses:\n",
    "\n",
    "```\n",
    "pydock3 T26 dockrst > dockrst.log &\n",
    "```\n",
    "\n",
    "This will create a new file in our docking folder called T26.eneRST. We read that file using our parsing function and make a new boxplot to see our distribution of values"
   ]
  },
  {
   "cell_type": "code",
   "execution_count": null,
   "id": "historic-contract",
   "metadata": {},
   "outputs": [],
   "source": [
    "rst_energies = parseEnergy('docking/T26.eneRST')"
   ]
  },
  {
   "cell_type": "code",
   "execution_count": null,
   "id": "interim-award",
   "metadata": {},
   "outputs": [],
   "source": [
    "print(rst_energies)"
   ]
  },
  {
   "cell_type": "code",
   "execution_count": null,
   "id": "scenic-healing",
   "metadata": {},
   "outputs": [],
   "source": [
    "rst_energies.boxplot()"
   ]
  },
  {
   "cell_type": "markdown",
   "id": "pressing-tattoo",
   "metadata": {},
   "source": [
    "We add to this data frame the rmsd we have previously calculated"
   ]
  },
  {
   "cell_type": "code",
   "execution_count": null,
   "id": "available-practitioner",
   "metadata": {
    "scrolled": true
   },
   "outputs": [],
   "source": [
    "rst_energies['RMSD'] = energies['RMSD'].tolist()"
   ]
  },
  {
   "cell_type": "code",
   "execution_count": null,
   "id": "incredible-luxembourg",
   "metadata": {
    "scrolled": true
   },
   "outputs": [],
   "source": [
    "# Plot RMSD vs energies\n",
    "print('Pearson correlations:')\n",
    "for e in rst_energies:\n",
    "    if e not in ['RMSD', 'Conf']:\n",
    "        plt.figure()\n",
    "        plt.scatter(rst_energies['RMSD'], rst_energies[e])\n",
    "        plt.title('RMSD vs '+e)\n",
    "        plt.xlabel('RMSD [angstroms]')\n",
    "        plt.ylabel(e+' [pyDock energy units]')\n",
    "        print('\\t', e, np.corrcoef(rst_energies['RMSD'], rst_energies[e])[0][1])"
   ]
  },
  {
   "cell_type": "markdown",
   "id": "eastern-tobacco",
   "metadata": {},
   "source": [
    "We can also read the T26.eneRST file in the output folder, that contains the rescored energy for the 10000 poses:"
   ]
  },
  {
   "cell_type": "code",
   "execution_count": null,
   "id": "fossil-panic",
   "metadata": {},
   "outputs": [],
   "source": [
    "rst_all_energies = parseEnergy('output/T26.eneRST')"
   ]
  },
  {
   "cell_type": "code",
   "execution_count": null,
   "id": "addressed-pregnancy",
   "metadata": {},
   "outputs": [],
   "source": [
    "print(rst_all_energies)"
   ]
  },
  {
   "cell_type": "code",
   "execution_count": null,
   "id": "rough-mount",
   "metadata": {},
   "outputs": [],
   "source": [
    "rst_all_energies.boxplot()\n",
    "plt.ylim(-100,200)\n",
    "plt.title('Energy values from the output/T26.ene file')\n",
    "plt.ylabel('pyDock energy units')"
   ]
  },
  {
   "cell_type": "markdown",
   "id": "earned-adams",
   "metadata": {},
   "source": [
    "Finally, we add the RMSDs to this new energy array and recalculate the corrleations between the energies and the RMSDs to the native configuration"
   ]
  },
  {
   "cell_type": "code",
   "execution_count": null,
   "id": "fabulous-summit",
   "metadata": {},
   "outputs": [],
   "source": [
    "rst_all_energies['RMSD'] = all_energies['RMSD'].tolist()"
   ]
  },
  {
   "cell_type": "code",
   "execution_count": null,
   "id": "greek-newton",
   "metadata": {},
   "outputs": [],
   "source": [
    "# Plot RMSD vs energies\n",
    "print('Pearson correlations:')\n",
    "for e in rst_all_energies:\n",
    "    if e not in ['RMSD', 'Conf']:\n",
    "        plt.figure()\n",
    "        plt.scatter(rst_all_energies['RMSD'], rst_all_energies[e])\n",
    "        plt.title('RMSD vs '+e)\n",
    "        plt.xlabel('RMSD [angstroms]')\n",
    "        plt.ylabel(e+' [pyDock energy units]')\n",
    "        print('\\t', e, np.corrcoef(rst_all_energies['RMSD'], rst_all_energies[e])[0][1])"
   ]
  },
  {
   "cell_type": "code",
   "execution_count": null,
   "id": "acceptable-shakespeare",
   "metadata": {},
   "outputs": [],
   "source": []
  }
 ],
 "metadata": {
  "kernelspec": {
   "display_name": "Python 3",
   "language": "python",
   "name": "python3"
  },
  "language_info": {
   "codemirror_mode": {
    "name": "ipython",
    "version": 3
   },
   "file_extension": ".py",
   "mimetype": "text/x-python",
   "name": "python",
   "nbconvert_exporter": "python",
   "pygments_lexer": "ipython3",
   "version": "3.6.10"
  }
 },
 "nbformat": 4,
 "nbformat_minor": 5
}
