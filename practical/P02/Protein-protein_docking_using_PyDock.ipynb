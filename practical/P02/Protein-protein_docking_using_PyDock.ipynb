{
 "cells": [
  {
   "cell_type": "markdown",
   "id": "affected-definition",
   "metadata": {},
   "source": [
    "# Biomolecular Interactions\n",
    "\n",
    "## Practical session P02 - Docking with PyDock\n",
    "\n",
    "### Introduction\n",
    "\n",
    "Protein-protein interactions lie at the heart of cellular control mechanisms. Protein molecules in the cell interact either permanently or transiently. Many types of chemical interactions are involved in a protein-protein complex; knowing this interaction can help us understand how many of the biochemical processes involving these proteins are regulated.\n",
    "\n",
    "In this practice session we will employ the docking software PyDock. We will follow the installation steps, and use it to dock two protein partners.  We will repeat the docking procedure using experimental information about which residues pertaing to the protein-protein complex interface. While the docking commands will be run using the terminal, we will load the output files in this notebook to make analyse the docking results."
   ]
  },
  {
   "cell_type": "markdown",
   "id": "variable-assets",
   "metadata": {},
   "source": [
    "### Getting PyDock\n",
    "\n",
    "The pyDock program needs an Academic License, and therefore pyDock is only distributed by requesting it. You need to ask for a copy of the program at the following link:\n",
    "\n",
    "https://life.bsc.es/pid/pydock/get_pydock.html\n",
    "\n",
    "We will put the downloaded pyDock copy into the programs/pyDock directory.\n",
    "\n",
    "### Installing PyDock\n",
    "\n",
    "One you have a copy of the pyDock program we can proceed to installing it in our computer. To make the docking calculations pyDock uses either FTDock or ZDOCK external programs. In this ocassion, we will procede to install the FTDock program first. FTDock, in turn, depends on the FFTW2.1 library.\n",
    "\n",
    "\n",
    "#### Installing FFTW2\n",
    "\n",
    "In the ./programs/fftw2 folder there is a compresed file, called:\n",
    "\n",
    "fftw-2.1.5.tar.gz\n",
    "\n",
    "We decompress it by executing:\n",
    "\n",
    "```\n",
    "cd programs/fftw2/\n",
    "gunzip fftw-2.1.5.tar.gz\n",
    "tar xvf fftw-2.1.5.tar\n",
    "```\n",
    "\n",
    "Then we enter the newly created folder, fftw-2.1.5, and compile this library with:\n",
    "\n",
    "```\n",
    "./configure --enable-float\n",
    "make\n",
    "```\n",
    "\n",
    "One it has finished we copy the absolute path to the fftw-2.1.5 folder:\n",
    "\n",
    "```\n",
    "pwd\n",
    "```\n",
    "\n",
    "#### Installing FTDock\n",
    "\n",
    "We can now install FTDock. For that, we navigate to the containing folder:\n",
    "\n",
    "```\n",
    "cd ../..\n",
    "cd FTDock\n",
    "```\n",
    "\n",
    "We uncompress the gnu_licensed_3D_Dock.tar file:\n",
    "\n",
    "```\n",
    "tar xvf gnu_licensed_3D_Dock.tar\n",
    "```\n",
    "\n",
    "We enter the following folder and edit the Makefile:\n",
    "\n",
    "```\n",
    "cd 3D_Dock/progs/\n",
    "```\n",
    "\n",
    "For Ubuntu:\n",
    "\n",
    "```\n",
    "gedit Makefile\n",
    "```\n",
    "\n",
    "For Mac:\n",
    "\n",
    "```\n",
    "open -t file.txt\n",
    "```\n",
    "\n",
    "We change the following lines:\n",
    "\n",
    "1) in the FFTW_DIR line, define the full path of the fftw-2.1.5 directory\n",
    "2) in the CC_FLAGS line, remove the -malign-double argument.\n",
    "3) in the CC_FLAGS line, define -mcpu=k8\n",
    "\n",
    "Then we compile the program:\n",
    "\n",
    "```\n",
    "make\n",
    "```\n",
    "\n",
    "Finally, we get the path to this folder so we can tell to pyDock where to find the program.\n",
    "\n",
    "```\n",
    "cd ..\n",
    "pwd\n",
    "```\n",
    "\n",
    "\n",
    "#### Installing pyDock\n",
    "\n",
    "We finally install pyDock, for that we navigate to the folder where the program is located:\n",
    "\n",
    "```\n",
    "cd ../..\n",
    "cd pyDock\n",
    "```\n",
    "\n",
    "We uncompress the file:\n",
    "\n",
    "```\n",
    "tar xvf pyDock3.tgz.tar\n",
    "```\n",
    "\n",
    "We edit the pyDock configuration file, in the etc folder, to give it the path to the FTDOCK program:\n",
    "\n",
    "1) in the FTDOCK= line, define the full path of the 3D_Dock directory\n",
    "\n",
    "```\n",
    "cd pyDock3\n",
    "```\n",
    "\n",
    "For Ubuntu:\n",
    "\n",
    "```\n",
    "gedit etc/pydock.conf\n",
    "```\n",
    "\n",
    "For Mac:\n",
    "\n",
    "```\n",
    "open -t etc/pydock.conf\n",
    "```\n",
    "\n",
    "We get the path to the pyDock3 executable:\n",
    "\n",
    "```\n",
    "pwd\n",
    "```\n",
    "\n",
    "and we enter this path at the end of the .bashrc file:\n",
    "\n",
    "For Ubuntu:\n",
    "\n",
    "```\n",
    "gedit ~/.bashrc\n",
    "```\n",
    "\n",
    "For Mac:\n",
    "\n",
    "```\n",
    "open -t ~/.bashrc\n",
    "```\n",
    "\n",
    "the line is : \n",
    "\n",
    "export PATH=\\\\$PATH:\"Path_to_pyDock3\"\n",
    "\n",
    "where, \"Path_to_pyDock3\", is the previous path. \n",
    "\n",
    "To source again the .bashrc file we can use:\n",
    "\n",
    "```\n",
    "source  ~/.bashrc\n",
    "```\n",
    "\n",
    "or simply open a new terminal."
   ]
  },
  {
   "cell_type": "markdown",
   "id": "wicked-bibliography",
   "metadata": {},
   "source": [
    "### Running pyDock with FTDOCK\n",
    "\n",
    "#### Defining the partners file\n",
    "\n",
    "In the input directory we have two separate protein partners (pdb files) that we will dock:\n",
    "\n",
    "1C5K.pdb, the Tol-Pal system protein TolB\n",
    "\n",
    "and \n",
    "\n",
    "1OAP.pdb, the Peptidoglycan-associated lipoprotein (Pal) protein.\n",
    "\n",
    "We can open in chimera to see the relative orientation of the chains.\n",
    "\n",
    "\n",
    "#### Edit the configuration file\n",
    "\n",
    "PyDock uses one protein as a fixed (receptor) protein , and the other movable (ligand) protein. We need to edit the configuration file T26.ini to give the names of the files that will be the receptor and the ligand molecules. \n",
    "\n",
    "For Ubuntu:\n",
    "\n",
    "```\n",
    "gedit input/T26.ini\n",
    "```\n",
    "\n",
    "For Mac:\n",
    "\n",
    "```\n",
    "open -t input/T26.ini\n",
    "```\n",
    "\n",
    "#### Run the docking calculation\n",
    "\n",
    "To run the docking we will copy the files into a newly created folder:\n",
    "\n",
    "```\n",
    "mkdir docking\n",
    "cp input/* docking\n",
    "```\n",
    "\n",
    "In the new folder we will run the configuration scripts as follow:\n",
    "\n",
    "```\n",
    "cd docking\n",
    "```\n",
    "\n",
    "```\n",
    "pyDock3 T26 setup\n",
    "```\n",
    "\n",
    "The T26 is the prefix we will use for our calculations. Here is the prefix used by pyDock to read the .ini configuration file.\n",
    "\n",
    "After executing this command in the docking folder, there will be many new files created:\n",
    "\n",
    "\n",
    "- T26_lig.pdb       :  Ligand PDB file\n",
    "- T26_lig.pdb.amber :  AMBER parameters for each atom in the ligand PDB structure\n",
    "- T26_lig.pdb.H     :  Ligand PDB file with hydrogens\n",
    "- T26_rec.pdb       :  Receptor PDB file\n",
    "- T26_rec.pdb.amber :  AMBER parameters for each atom in the receptor PDB structure\n",
    "- T26_rec.pdb.H     :  Receptor PDB file with hydrogens\n",
    "\n",
    "FTDOCK expects to find the PDB files with extension .parsed, thus we just copy the receptor and ligand pdb files to create a \".parsed\" named version:\n",
    "\n",
    "```\n",
    "cp T26_lig.pdb T26_lig.parsed\n",
    "cp T26_rec.pdb T26_rec.parsed\n",
    "```\n",
    "\n",
    "After copying the files we execute:\n",
    "\n",
    "```\n",
    "pyDock3 T26 ftdock\n",
    "```\n",
    "\n",
    "This will sample the protein docking conformations using Fast Fourier Transform (FFT) methods, and can can take several minutes to finish. The output will be stored in the \n",
    "\n",
    "\n",
    "#### Transform the FTDOCK output to rotational and translation matrix\n",
    "\n",
    "For each conformation, we need to transform the output data from FTDOCK (T26.ftdock), in which each solution is represented by the cartesian position of the ligand and the rotation based on Euler angles, to the rotation and translation matrix that transforms the original ligand into the conformations generated by FTDOCK.\n",
    "\n",
    "To run this we will execute:\n",
    "\n",
    "```\n",
    "pyDock3 T26 rotftdoc\n",
    "```\n",
    "\n",
    "The calculation is fast and creates a T26.rot file with the transformation matrices for all the produced docking poses.\n",
    "\n",
    "####  Scoring using the pyDock energy function\n",
    "\n",
    "In order to exemplify the socring calculation we will only employ a 100 docked poses, although you can find full scored outputs in the output folder.\n",
    "\n",
    "First, we back up the .rot file:\n",
    "\n",
    "```\n",
    "cp T26.rot T26.rot.original\n",
    "```\n",
    "\n",
    "Then, we extract only 100 lines from the file using sed:\n",
    "\n",
    "```\n",
    "sed -n -e '11,110p' T26.rot.original > T26.rot\n",
    "```\n",
    "\n",
    "Then, for the scoring we ran:\n",
    "\n",
    "```\n",
    "pyDock3 T26 dockser  > dockser.log  &\n",
    "```\n",
    "\n",
    "After the calculation is finished it will produce an energy file called T26.ene, we can read that file to see its output:"
   ]
  },
  {
   "cell_type": "code",
   "execution_count": null,
   "id": "eastern-garbage",
   "metadata": {},
   "outputs": [],
   "source": [
    "with open('docking/T26.ene') as enef:\n",
    "    for l in enef:\n",
    "        print(l)"
   ]
  },
  {
   "cell_type": "markdown",
   "id": "accepted-click",
   "metadata": {},
   "source": [
    "The meaning of each term is as follows:\n",
    "\n",
    "    1) Conf: conformation number of the docking pose (same as that in the rot file, last column)\n",
    "\n",
    "    2) Ele: Electrostatic energy component\n",
    "\n",
    "    3) Delsov: Desolvation energy component\n",
    "\n",
    "    4) VDW: Van der Waals energy component (term weighted to 0.1 by default)\n",
    "\n",
    "    5) Total: Total binding energy (Ele + Desolv + 0.1*VDW)\n",
    "\n",
    "    6) RANK: conformation rank according to its computed binding energy\n",
    "\n",
    "We create a function to parse this file as a pandas data frame:"
   ]
  },
  {
   "cell_type": "code",
   "execution_count": null,
   "id": "thick-accent",
   "metadata": {},
   "outputs": [],
   "source": [
    "import pandas as pd\n",
    "import numpy as np"
   ]
  },
  {
   "cell_type": "code",
   "execution_count": null,
   "id": "sporting-gazette",
   "metadata": {},
   "outputs": [],
   "source": [
    "def parseEnergy(energy_file):\n",
    "    \n",
    "    scores = {}\n",
    "    \n",
    "    # Read the score file\n",
    "    with open(energy_file) as ef:\n",
    "        \n",
    "        # Iterate each line in the file with an index (i)\n",
    "        for i,l in enumerate(ef):\n",
    "            \n",
    "            # From the first line (index=0) extract the terms\n",
    "            if i == 0:\n",
    "                terms = l.split()\n",
    "                \n",
    "            # From the remaining lines extract the values\n",
    "            elif not l.startswith('---'):\n",
    "                \n",
    "                # Iterate each value with a second index (j)\n",
    "                for j,value in enumerate(l.split()):\n",
    "                    \n",
    "                    # Get the term corresponding to that j index \n",
    "                    term = terms[j]\n",
    "                    \n",
    "                    # Create an entry in the scores dictionary if the term is not in it. \n",
    "                    if term not in scores:\n",
    "                        \n",
    "                        # Create a list to store all the values corresponding to this term\n",
    "                        scores[term] = []\n",
    "                        \n",
    "                    # Append the values to each corresponding term list\n",
    "                    \n",
    "                    if term == 'Conf' or term == 'RANK':\n",
    "                        scores[term].append(int(value))\n",
    "                    else:\n",
    "                        scores[term].append(float(value))\n",
    "                        \n",
    "           \n",
    "    # Convert to a numpy arrya each list of term values \n",
    "    for term in scores:\n",
    "        scores[term] = np.array(scores[term])\n",
    "        \n",
    "    # Convert the dictionary of numpy arrays to a Pandas DataFrame object\n",
    "    scores = pd.DataFrame(scores)\n",
    "    \n",
    "    # Set the index of the data frame as the RANK term\n",
    "    scores = scores.set_index('RANK')\n",
    "    \n",
    "    # Return the data frame\n",
    "    return scores"
   ]
  },
  {
   "cell_type": "markdown",
   "id": "sufficient-customer",
   "metadata": {},
   "source": [
    "Now we this function to read the energy file:"
   ]
  },
  {
   "cell_type": "code",
   "execution_count": null,
   "id": "double-world",
   "metadata": {},
   "outputs": [],
   "source": [
    "# Read the energy file with our parse function\n",
    "energies = parseEnergy('docking/T26.ene')\n",
    "\n",
    "# Print the data frame \n",
    "print(energies)"
   ]
  },
  {
   "cell_type": "code",
   "execution_count": null,
   "id": "considerable-ontario",
   "metadata": {},
   "outputs": [],
   "source": [
    "import matplotlib.pyplot as plt"
   ]
  },
  {
   "cell_type": "markdown",
   "id": "fifty-fence",
   "metadata": {},
   "source": [
    "With Pandas can quickly make a box plot to see the distribution of values"
   ]
  },
  {
   "cell_type": "code",
   "execution_count": null,
   "id": "compound-population",
   "metadata": {},
   "outputs": [],
   "source": [
    "energies.boxplot()\n",
    "plt.title('Energy values from the T26.ene file')\n",
    "plt.ylabel('pyDock energy units')"
   ]
  },
  {
   "cell_type": "markdown",
   "id": "british-great",
   "metadata": {},
   "source": [
    "To evaluate the results of the Docking calculation we need to compare it with the known protein complex (The structure is in the native folder) \n",
    "\n",
    "To automate the RMSD calculation we are going to employ a Python library that is specialized in analyzing molecular dynamic trajectories (MDTraj). The steps to get the RMSD are as follow:\n",
    "\n",
    "1) Generate the docking pose's PDB file\n",
    "2) Load the docking pose's PDB file\n",
    "3) Load the native pose's PDB file\n",
    "4) Align the two structure\n",
    "5) Calculate the RMSD to the native\n",
    "\n",
    "To extract a specific conformation we use the following command in our docking folder:\n",
    "\n",
    "```\n",
    "pyDock3 T26 makePDB rank1 rank2\n",
    "```\n",
    "\n",
    "Where, rank1 and rank2 define the range of conformations to extract. \n",
    " \n",
    "Let's extract the first ranked conformation:\n",
    "\n",
    "```\n",
    "pyDock3 T26 makePDB 1 1\n",
    "```\n",
    "\n",
    "This commands creates the file T26_conf.pdb, where conf is the index of the first raked conformation. Now we import MDtraj library"
   ]
  },
  {
   "cell_type": "code",
   "execution_count": null,
   "id": "joined-nerve",
   "metadata": {},
   "outputs": [],
   "source": [
    "import mdtraj as md"
   ]
  },
  {
   "cell_type": "markdown",
   "id": "pediatric-penalty",
   "metadata": {},
   "source": [
    "We now load the native and this conformation with mdtraj"
   ]
  },
  {
   "cell_type": "code",
   "execution_count": null,
   "id": "bizarre-brush",
   "metadata": {},
   "outputs": [],
   "source": [
    "native = md.load('native/2HQS_native.pdb')\n",
    "docked = md.load('docking/T26_110.pdb')\n",
    "\n",
    "print(native)\n",
    "print(docked)"
   ]
  },
  {
   "cell_type": "markdown",
   "id": "gothic-variable",
   "metadata": {},
   "source": [
    "We see tath the docking pose has two residues more than our native structure. We can inspect which residues are missing by aligning the sequences with chimera:\n",
    "\n",
    "\n",
    "```\n",
    "chimera 1OAP.pdb 1C5K.pdb ../native/2HQS_native.pdb \n",
    "```\n",
    "\n",
    "the two first residues from 1OAP.pdb are missing from the native file. We identify their indexes from the mdtraj object as the first two residues of the second chain in the docked structure. We save the indexes of the alpha-carbon (CA) atoms for all common residues between the two structures."
   ]
  },
  {
   "cell_type": "code",
   "execution_count": null,
   "id": "helpful-somerset",
   "metadata": {},
   "outputs": [],
   "source": [
    "# Save CA indexes of native pdb\n",
    "native_CA_atoms = []\n",
    "for chain in native.topology.chains:\n",
    "    for residue in chain.residues:\n",
    "        for atom in residue.atoms:\n",
    "            if atom.name == 'CA':\n",
    "                native_CA_atoms.append(atom.index)"
   ]
  },
  {
   "cell_type": "code",
   "execution_count": null,
   "id": "voluntary-monitoring",
   "metadata": {},
   "outputs": [],
   "source": [
    "# Save CA indexes of docked pdb\n",
    "docking_CA_atoms = []\n",
    "for chain in docked.topology.chains:\n",
    "    for i,residue in enumerate(chain.residues):\n",
    "        if chain.index == 1 and i in [0,1]:\n",
    "            continue\n",
    "        else:\n",
    "            for atom in residue.atoms:\n",
    "                if atom.name == 'CA':\n",
    "                    docking_CA_atoms.append(atom.index)"
   ]
  },
  {
   "cell_type": "markdown",
   "id": "dried-vitamin",
   "metadata": {},
   "source": [
    "Now we check that both set of indexes match in number."
   ]
  },
  {
   "cell_type": "code",
   "execution_count": null,
   "id": "empirical-maria",
   "metadata": {},
   "outputs": [],
   "source": [
    "print(len(native_CA_atoms))\n",
    "print(len(docking_CA_atoms))"
   ]
  },
  {
   "cell_type": "markdown",
   "id": "rising-silicon",
   "metadata": {},
   "source": [
    "Finally, we procede to calculate the RMSD as follow:"
   ]
  },
  {
   "cell_type": "code",
   "execution_count": null,
   "id": "recreational-scott",
   "metadata": {},
   "outputs": [],
   "source": [
    "# Slice the trajectories to get only alpha carbon atoms\n",
    "native_ca = native.atom_slice(native_CA_atoms)\n",
    "docked_ca = docked.atom_slice(docking_CA_atoms)\n",
    "\n",
    "# Superimpose docked structure to the native\n",
    "docked_ca = docked_ca.superpose(native_ca)\n",
    "\n",
    "# Calculate RMSD between the structures\n",
    "rmsd = md.rmsd(native_ca, docked_ca)[0]*10 # Convert to angstroms\n",
    "\n",
    "print(rmsd)"
   ]
  },
  {
   "cell_type": "markdown",
   "id": "adjacent-florist",
   "metadata": {},
   "source": [
    "We observe that the RMSD is quite high. We can make a function to automatize the whole process to evaluate the remaining conformations:"
   ]
  },
  {
   "cell_type": "code",
   "execution_count": null,
   "id": "herbal-beginning",
   "metadata": {},
   "outputs": [],
   "source": [
    "import os"
   ]
  },
  {
   "cell_type": "code",
   "execution_count": null,
   "id": "broke-agent",
   "metadata": {},
   "outputs": [],
   "source": [
    "def appendRMSD(scores, native_traj, docking_directory='docking'):\n",
    "    \n",
    "    RMSDs = []\n",
    "    \n",
    "    for rank,conf in scores['Conf'].iteritems():\n",
    "        \n",
    "        # Extract specific rank PDB \n",
    "        os.chdir(docking_directory)\n",
    "        os.system('pyDock3 T26 makePDB '+str(rank)+' '+str(rank))\n",
    "        os.chdir('..')\n",
    "        \n",
    "        # Load pdb into mdtraj\n",
    "        docked_pdb = docking_directory+'/T26_'+str(conf)+'.pdb'\n",
    "        docked = md.load(docked_pdb)\n",
    "        \n",
    "        # Remove pdb\n",
    "        os.remove(docked_pdb)\n",
    "        \n",
    "        # Save CA indexes of native pdb\n",
    "        native_CA_atoms = []\n",
    "        for chain in native.topology.chains:\n",
    "            for residue in chain.residues:\n",
    "                for atom in residue.atoms:\n",
    "                    if atom.name == 'CA':\n",
    "                        native_CA_atoms.append(atom.index)\n",
    "                        \n",
    "        # Save CA indexes of docked pdb\n",
    "        docking_CA_atoms = []\n",
    "        for chain in docked.topology.chains:\n",
    "            for i,residue in enumerate(chain.residues):\n",
    "                if chain.index == 1 and i in [0,1]:\n",
    "                    continue\n",
    "                else:\n",
    "                    for atom in residue.atoms:\n",
    "                        if atom.name == 'CA':\n",
    "                            docking_CA_atoms.append(atom.index)\n",
    "        \n",
    "        # Make sure the number of atoms between docked and native is the same\n",
    "        assert len(native_CA_atoms) == len(docking_CA_atoms)\n",
    "        \n",
    "        # Slice the trajectories to get only alpha carbon atoms\n",
    "        native_ca = native.atom_slice(native_CA_atoms)\n",
    "        docked_ca = docked.atom_slice(docking_CA_atoms)\n",
    "\n",
    "        # Superimpose docked structure to the native\n",
    "        docked_ca = docked_ca.superpose(native_ca)\n",
    "\n",
    "        # Calculate RMSD between the structures\n",
    "        RMSDs.append(md.rmsd(native_ca, docked_ca)[0]*10) # Convert to angstroms\n",
    "        \n",
    "        \n",
    "    scores['RMSD'] = RMSDs\n",
    "        \n",
    "    # Add RMSDs to scores array            \n",
    "    return np.array(RMSDs)"
   ]
  },
  {
   "cell_type": "code",
   "execution_count": null,
   "id": "accessible-configuration",
   "metadata": {},
   "outputs": [],
   "source": [
    "rmsds = appendRMSD(energies, native)"
   ]
  },
  {
   "cell_type": "code",
   "execution_count": null,
   "id": "touched-frequency",
   "metadata": {
    "scrolled": true
   },
   "outputs": [],
   "source": [
    "# Plot RMSD vs energies\n",
    "print('Pearson correlations:')\n",
    "for e in energies:\n",
    "    if e not in ['RMSD', 'Conf']:\n",
    "        plt.figure()\n",
    "        plt.scatter(energies['RMSD'], energies[e])\n",
    "        plt.title('RMSD vs '+e)\n",
    "        plt.xlabel('RMSD [angstroms]')\n",
    "        plt.ylabel(e+' [pyDock energy units]')\n",
    "        print('\\t', e, np.corrcoef(energies['RMSD'], energies[e])[0][1])"
   ]
  },
  {
   "cell_type": "markdown",
   "id": "prepared-title",
   "metadata": {},
   "source": [
    "For time reasons we have only used a hundred poses, however one typically would run a much higher number of docking trajectories. The output for a 10000 poses run can be found in the output folder. We load the energy files from that file:"
   ]
  },
  {
   "cell_type": "code",
   "execution_count": null,
   "id": "premium-tucson",
   "metadata": {},
   "outputs": [],
   "source": [
    "all_energies = parseEnergy('output/T26.ene')"
   ]
  },
  {
   "cell_type": "code",
   "execution_count": null,
   "id": "religious-consciousness",
   "metadata": {},
   "outputs": [],
   "source": [
    "print(all_energies)"
   ]
  },
  {
   "cell_type": "code",
   "execution_count": null,
   "id": "japanese-affairs",
   "metadata": {},
   "outputs": [],
   "source": [
    "all_energies.boxplot()\n",
    "plt.ylim(-60,200)\n",
    "plt.title('Energy values from the output/T26.ene file')\n",
    "plt.ylabel('pyDock energy units')"
   ]
  },
  {
   "cell_type": "markdown",
   "id": "collaborative-supervisor",
   "metadata": {},
   "source": [
    "The calculation of the RMSDs to the native configuration for the 10000 poses would also take a couple of hours to caculate, therefore we can read the numpy array containing the corresponding RMSDs from the file T26.rmsds.npy in the output folder. "
   ]
  },
  {
   "cell_type": "code",
   "execution_count": null,
   "id": "honest-timber",
   "metadata": {},
   "outputs": [],
   "source": [
    "rmsds = np.loadtxt('output/T26.rmsds.npy')"
   ]
  },
  {
   "cell_type": "markdown",
   "id": "british-shell",
   "metadata": {},
   "source": [
    "Let's add the rmsds to the 10000 poses energy scores array:"
   ]
  },
  {
   "cell_type": "code",
   "execution_count": null,
   "id": "genuine-wells",
   "metadata": {},
   "outputs": [],
   "source": [
    "all_energies['RMSD'] = rmsds.tolist()"
   ]
  },
  {
   "cell_type": "markdown",
   "id": "aboriginal-gossip",
   "metadata": {},
   "source": [
    "We can now depict the conformational landscape explored by the full docking algorithm according to the RMSD to the native configuration, and calculate if there is any correlation between the docked energies and this RMSD:"
   ]
  },
  {
   "cell_type": "code",
   "execution_count": null,
   "id": "mounted-planet",
   "metadata": {
    "scrolled": false
   },
   "outputs": [],
   "source": [
    "# Plot RMSD vs energies\n",
    "print('Pearson correlations:')\n",
    "for e in all_energies:\n",
    "    if e not in ['RMSD', 'Conf']:\n",
    "        plt.figure()\n",
    "        plt.scatter(all_energies['RMSD'], all_energies[e])\n",
    "        plt.title('RMSD vs '+e)\n",
    "        plt.xlabel('RMSD [angstroms]')\n",
    "        plt.ylabel(e+' [pyDock energy units]')\n",
    "        print('\\t', e, np.corrcoef(all_energies['RMSD'], all_energies[e])[0][1])"
   ]
  },
  {
   "cell_type": "markdown",
   "id": "unnecessary-backing",
   "metadata": {},
   "source": [
    "We observe that very few near native conformations are found, but a very big conformational space was explored by the simulation."
   ]
  },
  {
   "cell_type": "markdown",
   "id": "blond-viking",
   "metadata": {},
   "source": [
    "### Including experimental restraints in the pyDock energy function scoring\n",
    "\n",
    "The pyDock energy function failed to identify the near-native conformations, however, if we have experimental data about mutations affecting the interaction between the protein partners, we can include them in the scoring procedure.\n",
    "\n",
    "pyDock uses distance restraints defined from a given putative interface ersidue. This restraints are stasfied if the center of coordinates of the residues' sidechain is at a distance of less than 6 angstroms from any non-hydrogen atom of the partner molecule.\n",
    "\n",
    "For each docking solution the percentage of satisfied restraints is converted to a pseudo energy (multiplying by -1) and added to the total docking energy.\n",
    "\n",
    "Let's rescore our poses using the following information inside our T26.ini file:\n",
    "\n",
    "[receptor]\n",
    "\n",
    "restr   = A.Hid.147,A.Arg.36\n",
    "\n",
    "\n",
    "[ligand]\n",
    "\n",
    "restr   = B.Phe.52\n",
    "\n",
    "We add this extra lines to our T26.ini file, after the lines appearing in each section. After this, we run the following command to rescore the poses:\n",
    "\n",
    "```\n",
    "pydock3 T26 dockrst > dockrst.log &\n",
    "```\n",
    "\n",
    "This will create a new file in our docking folder called T26.eneRST. We read that file using our parsing function and make a new boxplot to see our distribution of values"
   ]
  },
  {
   "cell_type": "code",
   "execution_count": null,
   "id": "international-portland",
   "metadata": {},
   "outputs": [],
   "source": [
    "rst_energies = parseEnergy('docking/T26.eneRST')"
   ]
  },
  {
   "cell_type": "code",
   "execution_count": null,
   "id": "civic-reputation",
   "metadata": {},
   "outputs": [],
   "source": [
    "print(rst_energies)"
   ]
  },
  {
   "cell_type": "code",
   "execution_count": null,
   "id": "static-papua",
   "metadata": {},
   "outputs": [],
   "source": [
    "rst_energies.boxplot()"
   ]
  },
  {
   "cell_type": "markdown",
   "id": "laughing-liberty",
   "metadata": {},
   "source": [
    "We add to this data frame the rmsd we have previously calculated"
   ]
  },
  {
   "cell_type": "code",
   "execution_count": null,
   "id": "anticipated-approach",
   "metadata": {
    "scrolled": true
   },
   "outputs": [],
   "source": [
    "rst_energies['RMSD'] = energies['RMSD'].tolist()"
   ]
  },
  {
   "cell_type": "code",
   "execution_count": null,
   "id": "crucial-scene",
   "metadata": {
    "scrolled": true
   },
   "outputs": [],
   "source": [
    "# Plot RMSD vs energies\n",
    "print('Pearson correlations:')\n",
    "for e in rst_energies:\n",
    "    if e not in ['RMSD', 'Conf']:\n",
    "        plt.figure()\n",
    "        plt.scatter(rst_energies['RMSD'], rst_energies[e])\n",
    "        plt.title('RMSD vs '+e)\n",
    "        plt.xlabel('RMSD [angstroms]')\n",
    "        plt.ylabel(e+' [pyDock energy units]')\n",
    "        print('\\t', e, np.corrcoef(rst_energies['RMSD'], rst_energies[e])[0][1])"
   ]
  },
  {
   "cell_type": "markdown",
   "id": "straight-seller",
   "metadata": {},
   "source": [
    "We can also read the T26.eneRST file in the output folder, that contains the rescored energy for the 10000 poses:"
   ]
  },
  {
   "cell_type": "code",
   "execution_count": null,
   "id": "physical-april",
   "metadata": {},
   "outputs": [],
   "source": [
    "rst_all_energies = parseEnergy('output/T26.eneRST')"
   ]
  },
  {
   "cell_type": "code",
   "execution_count": null,
   "id": "naked-express",
   "metadata": {},
   "outputs": [],
   "source": [
    "print(rst_all_energies)"
   ]
  },
  {
   "cell_type": "code",
   "execution_count": null,
   "id": "cubic-performer",
   "metadata": {},
   "outputs": [],
   "source": [
    "rst_all_energies.boxplot()\n",
    "plt.ylim(-100,200)\n",
    "plt.title('Energy values from the output/T26.ene file')\n",
    "plt.ylabel('pyDock energy units')"
   ]
  },
  {
   "cell_type": "markdown",
   "id": "tutorial-jerusalem",
   "metadata": {},
   "source": [
    "Finally, we add the RMSDs to this new energy array and recalculate the corrleations between the energies and the RMSDs to the native configuration"
   ]
  },
  {
   "cell_type": "code",
   "execution_count": null,
   "id": "fleet-parker",
   "metadata": {},
   "outputs": [],
   "source": [
    "rst_all_energies['RMSD'] = all_energies['RMSD'].tolist()"
   ]
  },
  {
   "cell_type": "code",
   "execution_count": null,
   "id": "economic-default",
   "metadata": {},
   "outputs": [],
   "source": [
    "# Plot RMSD vs energies\n",
    "print('Pearson correlations:')\n",
    "for e in rst_all_energies:\n",
    "    if e not in ['RMSD', 'Conf']:\n",
    "        plt.figure()\n",
    "        plt.scatter(rst_all_energies['RMSD'], rst_all_energies[e])\n",
    "        plt.title('RMSD vs '+e)\n",
    "        plt.xlabel('RMSD [angstroms]')\n",
    "        plt.ylabel(e+' [pyDock energy units]')\n",
    "        print('\\t', e, np.corrcoef(rst_all_energies['RMSD'], rst_all_energies[e])[0][1])"
   ]
  },
  {
   "cell_type": "markdown",
   "id": "charitable-stevens",
   "metadata": {},
   "source": [
    "### Wrapping up\n",
    "\n",
    "In this practice session we learned how to:\n",
    "\n",
    "1) Compile PyDock and all its dependencies.\n",
    "\n",
    "2) Add the path of an executable to the .bashrc file for its direct execution in the terminal.\n",
    "\n",
    "3) Run pyDock using the FTDOCK program.\n",
    "\n",
    "4) Score docking poses with the pyDock score function.\n",
    "\n",
    "5) Analyse the dokcing enegies using Pandas.\n",
    "\n",
    "6) How to rescore docking poses using experimental information."
   ]
  }
 ],
 "metadata": {
  "kernelspec": {
   "display_name": "Python 3",
   "language": "python",
   "name": "python3"
  },
  "language_info": {
   "codemirror_mode": {
    "name": "ipython",
    "version": 3
   },
   "file_extension": ".py",
   "mimetype": "text/x-python",
   "name": "python",
   "nbconvert_exporter": "python",
   "pygments_lexer": "ipython3",
   "version": "3.6.10"
  }
 },
 "nbformat": 4,
 "nbformat_minor": 5
}
