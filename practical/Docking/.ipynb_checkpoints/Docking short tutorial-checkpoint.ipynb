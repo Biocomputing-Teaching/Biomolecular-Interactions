{
 "cells": [
  {
   "cell_type": "markdown",
   "metadata": {},
   "source": [
    "# Protein-protein docking\n",
    "\n",
    "Trying [pyDockweb](https://life.bsc.es/pid/pydock/) is a very good start. \n",
    "\n",
    "\n",
    "# Protein-small molecule docking\n",
    "\n",
    "## Autodock vina short tutorial \n",
    "\n",
    "Check good examples on how to use the software:\n",
    "* Follow Sari Sabban's [videotutorial](https://www.youtube.com/watch?v=rBEKZQ22nhs) on the use of [autodock](https://www.ncbi.nlm.nih.gov/pmc/articles/PMC4868550/) for docking ligands into HIV-1 PROTEASE;\n",
    "* Also José Manuel Nápoles Duarte [post](https://towardsdatascience.com/identifying-protein-ligand-interactions-with-colab-2cfd26ed469a) on the use of Py3Dmol to visualize results from [autodock vina](http://vina.scripps.edu/manual.html). We use some of his functions here.\n",
    "* Finally, Jean Didier Maréchal has posted a [nice and complete tutorial](https://gent.uab.cat/jdidier/content/practical-3-protein-ligand-docking-autodock) worth following for more advanced command-line calculations with AutoDock.\n",
    "\n",
    "We will use the PDB code [1HVC](https://www.rcsb.org/structure/1HVC) as our receptor.\n",
    "\n",
    "----------------------\n",
    "\n",
    "Requirements:\n",
    "\n",
    "* `biopython`. You can get it [through](https://biopython.org/wiki/Packages)\n",
    "```\n",
    "conda install -c conda-forge biopython\n",
    "```\n",
    "* `openbabel`. Open, collaborative project allowing anyone to search, convert, analyze, or store data from molecular modeling, chemistry, solid-state materials, biochemistry, or related areas. You can get it through\n",
    "```\n",
    "conda install -c openbabel openbabel\n",
    "```\n",
    "If you are using Mac OS X you may also want to install [`ibabel`](https://www.macinchem.org/ibabel/version4/iBabel4_0.php) for a graphical taste of the program:\n",
    "```\n",
    "pip install ibabel\n",
    "```\n",
    "* `pymol` (optional). User-sponsored molecular visualization system on an open-source foundation, maintained and distributed by Schrödinger. You will need to get a (free) [student license](https://pymol.org/edu/?q=educational). \n",
    "```\n",
    "conda install -c schrodinger pymol-bundle\n",
    "```\n",
    "Alternatively, if you have troubles using pymol (as occurs to me in my Mac OS X) you may have enough with `py3Dmol` as shown in this script. You can install it with `pip`:\n",
    "```\n",
    "pip -q install py3Dmol\n",
    "```\n",
    "----------------------\n",
    "\n",
    "Let us start by downloading the receptor PDB file using [Biopython](https://biopython.org/docs/1.75/api/Bio.PDB.PDBList.html#Bio.PDB.PDBList.PDBList.retrieve_pdb_file)\n",
    "\n"
   ]
  },
  {
   "cell_type": "code",
   "execution_count": null,
   "metadata": {},
   "outputs": [],
   "source": [
    "from Bio.PDB import PDBList\n",
    "\n",
    "pdbcode = '1HVC'\n",
    "datadir = 'data'\n",
    "pdbl = PDBList()\n",
    "pdbfile = pdbl.retrieve_pdb_file(pdbcode,file_format='pdb',pdir=datadir)\n",
    "print(pdbfile)"
   ]
  },
  {
   "cell_type": "markdown",
   "metadata": {},
   "source": [
    "Now we will extract only the lines containing the atoms of the polypeptide chain. Those lines contain the tag ATOM and we will simply use the shell command `grep` to run such extraction. Analogously, we will extract the lines containing the ligand (HETATM tag):"
   ]
  },
  {
   "cell_type": "code",
   "execution_count": null,
   "metadata": {},
   "outputs": [],
   "source": [
    "!grep ATOM {pdbfile} |grep -v HOH > {datadir}/R.pdb\n",
    "!grep HETATM {pdbfile} |grep -v HOH > {datadir}/L.pdb"
   ]
  },
  {
   "cell_type": "markdown",
   "metadata": {},
   "source": [
    "Autodock needs the receptor file in a format able to contain the charges for every atom. So, we will convert the recently created `R.pdb`file into a `receptor.pdbqt`file using `openbabel`. We will do the same with the `ligand.pdbqt` file. The files used in this example have zero charges for each ligand atom, which is wrong. I recommend you to use a partial charges calculator like [Atomic Charge Calculator II](https://acc2.ncbr.muni.cz)."
   ]
  },
  {
   "cell_type": "code",
   "execution_count": null,
   "metadata": {},
   "outputs": [],
   "source": [
    "!obabel {datadir}/R.pdb -O {datadir}/temp.pdbqt -o pdbqt -xh\n",
    "!grep ATOM {datadir}/temp.pdbqt > {datadir}/receptor.pdbqt\n",
    "!obabel {datadir}/L.pdb -O {datadir}/ligand.pdbqt -o pdbqt -xh"
   ]
  },
  {
   "cell_type": "code",
   "execution_count": null,
   "metadata": {},
   "outputs": [],
   "source": [
    "#checking if everything went right\n",
    "!tail {datadir}/receptor.pdbqt\n",
    "!tail {datadir}/ligand.pdbqt"
   ]
  },
  {
   "cell_type": "markdown",
   "metadata": {},
   "source": [
    "It will be handy to know what is the center of the ligand, as it will be used to create the search box for autodock vina docking"
   ]
  },
  {
   "cell_type": "code",
   "execution_count": null,
   "metadata": {},
   "outputs": [],
   "source": [
    "import numpy\n",
    "a = numpy.genfromtxt(\"data/L.pdb\", skip_header=1, usecols=[6, 7, 8])\n",
    "xligand=a.mean(axis=0)[0]\n",
    "yligand=a.mean(axis=0)[1]\n",
    "zligand=a.mean(axis=0)[2]\n",
    "print('The coordinates of the geometric center of the ligand are:',xligand,yligand,zligand)"
   ]
  },
  {
   "cell_type": "raw",
   "metadata": {},
   "source": [
    "We can graphically check the values of the center also with this nice script based on the one created by [José Manuel Nápoles Duarte](https://towardsdatascience.com/identifying-protein-ligand-interactions-with-colab-2cfd26ed469a) "
   ]
  },
  {
   "cell_type": "code",
   "execution_count": null,
   "metadata": {},
   "outputs": [],
   "source": [
    "import py3Dmol"
   ]
  },
  {
   "cell_type": "code",
   "execution_count": null,
   "metadata": {
    "scrolled": false,
    "slideshow": {
     "slide_type": "notes"
    }
   },
   "outputs": [],
   "source": [
    "def visbox2(objeto,bxi,byi,bzi,bxf,byf,bzf):\n",
    "    print(bxi,byi,bzi,bxf,byf,bzf)\n",
    "    objeto.addBox({'center':{'x':bxi,'y':byi,'z':bzi},'dimensions': {'w':bxf,'h':byf,'d':bzf},'color':'blue','opacity': 0.5})\n",
    "\n",
    "def complxvis(objeto,protein_name,ligand_name):\n",
    "    mol1 = open(protein_name, 'r').read()\n",
    "    mol2 = open(ligand_name, 'r').read()\n",
    "    objeto.addModel(mol1,'pdb')\n",
    "    objeto.setStyle({'cartoon': {'color':'spectrum'}})\n",
    "    objeto.addModel(mol2,'pdb')\n",
    "    objeto.setStyle({'model':1},{'stick':{}})\n",
    "\n",
    "def vismol(bxi=-10,byi=-10,bzi=-10,bxf=5,byf=5,bzf=5):\n",
    "    mol_view = py3Dmol.view(800, 400,viewergrid=(1,2))  \n",
    "    visbox2(mol_view,bxi,byi,bzi,bxf,byf,bzf)\n",
    "    complxvis(mol_view,datadir+'/R.pdb',datadir+'/L.pdb')\n",
    "    mol_view.setBackgroundColor('0xeeeeee')\n",
    "    mol_view.rotate(90, {'x':0,'y':1,'z':0},viewer=(0,1));\n",
    "    mol_view.zoomTo()  \n",
    "    mol_view.show()\n",
    "  \n",
    "from ipywidgets import interact,fixed,IntSlider\n",
    "import ipywidgets\n",
    "print(xligand,yligand,zligand)\n",
    "interact(vismol,\n",
    "         bxi=ipywidgets.IntSlider(min=-100,max=xligand+100, step=1),\n",
    "         byi=ipywidgets.IntSlider(min=-100,max=100, step=1),\n",
    "         bzi=ipywidgets.IntSlider(min=-100,max=100, step=1),\n",
    "         bxf=ipywidgets.IntSlider(min=0,max=30, step=1),\n",
    "         byf=ipywidgets.IntSlider(min=0,max=30, step=1),\n",
    "         bzf=ipywidgets.IntSlider(min=0,max=30, step=1))"
   ]
  },
  {
   "cell_type": "markdown",
   "metadata": {},
   "source": [
    "Once we have the PDBQT files, we can run [autodock vina](http://vina.scripps.edu/download.html). The best way to do it command line is taking profit of the configuration file option. From the above calculation, the values to specify the box can be introduced in a configuration file like follows:\n",
    "\n",
    "```\n",
    "receptor = data/receptor.pdbqt\n",
    "ligand = data/ligand.pdbqt\n",
    "\n",
    "out = data/all.pdbqt\n",
    "\n",
    "center_x = 5 \n",
    "center_y = -1\n",
    "center_z = 15  \n",
    "\n",
    "size_x = 15\n",
    "size_y = 16\n",
    "size_z = 15\n",
    "```\n",
    "\n",
    "Let us call the file created with this information `conf.txt`. Thus, running `autodock vina` is as simple as (check where the executable is in your computer, of course, or add it to your `$PATH`: "
   ]
  },
  {
   "cell_type": "code",
   "execution_count": null,
   "metadata": {},
   "outputs": [],
   "source": [
    "%%bash\n",
    "cat <<EOF > conf.txt\n",
    "receptor = data/receptor.pdbqt\n",
    "ligand = data/ligand.pdbqt\n",
    "\n",
    "out = data/all.pdbqt\n",
    "\n",
    "center_x = 5 \n",
    "center_y = -1\n",
    "center_z = 15  \n",
    "\n",
    "size_x = 15\n",
    "size_y = 16\n",
    "size_z = 15\n",
    "EOF"
   ]
  },
  {
   "cell_type": "code",
   "execution_count": null,
   "metadata": {},
   "outputs": [],
   "source": [
    "!~/Downloads/autodock_vina_1_1_2_mac_catalina_64bit/bin/vina --config conf.txt --log log.txt"
   ]
  },
  {
   "cell_type": "markdown",
   "metadata": {},
   "source": [
    "Let us next create a separate file for each of the ligands in order to visualize them in the widgets below. We will first extract the relevant lines from the `data/all.pdbqt` file into a new file that can be easily parsed. After that we will create a `model<id>.pdb` file for each model"
   ]
  },
  {
   "cell_type": "code",
   "execution_count": null,
   "metadata": {},
   "outputs": [],
   "source": [
    "!egrep '(MODEL|ATOM|ENDMDL|VINA)' data/all.pdbqt > data/all.pdb\n",
    "from Bio.PDB.PDBIO import PDBIO\n",
    "from Bio.PDB.PDBParser import PDBParser\n",
    "\n",
    "def selectModel(ofn, modelID='0'):\n",
    "\n",
    "    class ModelSelector():\n",
    "        def __init__(self, modelID=modelID):\n",
    "            self.modelID = modelID\n",
    "\n",
    "        def accept_chain(self, chain):\n",
    "            return 1\n",
    "\n",
    "        def accept_model(self, model):\n",
    "            if model.get_id() == self.modelID:\n",
    "                return 1\n",
    "            return 0\n",
    "\n",
    "        def accept_residue(self, residue):\n",
    "            return 1\n",
    "\n",
    "        def accept_atom(self, atom):\n",
    "            return 1\n",
    "\n",
    "    sel = ModelSelector(modelID)\n",
    "    io = PDBIO()\n",
    "    io.set_structure(structure)\n",
    "    io.save(ofn, sel)\n",
    "\n",
    "parser = PDBParser(QUIET=1)\n",
    "structure = parser.get_structure('x', 'data/all.pdb')\n",
    "\n",
    "for model in structure:\n",
    "    print(model)\n",
    "    selectModel('data/model'+str(model.id)+'.pdb',modelID=model.id)"
   ]
  },
  {
   "cell_type": "code",
   "execution_count": null,
   "metadata": {},
   "outputs": [],
   "source": [
    "def complxvis(objeto,protein_name,ligand_name):\n",
    "    mol1 = open(protein_name, 'r').read()\n",
    "    mol2 = open(ligand_name, 'r').read()\n",
    "    objeto.addModel(mol1,'pdb')\n",
    "    objeto.setStyle({'cartoon': {'color':'spectrum'}})\n",
    "    objeto.addModel(mol2,'pdb')\n",
    "    objeto.setStyle({'model':1},{'stick':{}})\n",
    "\n",
    "\n",
    "def complxvis2(protein_name,ligand_name):\n",
    "    mview = py3Dmol.view(800, 400)  \n",
    "    mol1 = open(protein_name, 'r').read()\n",
    "    mol2 = open(ligand_name, 'r').read()\n",
    "    mview.addModel(mol1,'pdb')\n",
    "    mview.setStyle({'cartoon': {'color':'spectrum'}})\n",
    "    mview.addModel(mol2,'pdb')\n",
    "    mview.setStyle({'model':1},{'stick':{}})\n",
    "    mview.setBackgroundColor('0xeeeeee')\n",
    "    mview.zoomTo()\n",
    "    mview.show()"
   ]
  },
  {
   "cell_type": "code",
   "execution_count": null,
   "metadata": {
    "scrolled": false
   },
   "outputs": [],
   "source": [
    "!egrep '(MODEL|VINA RESULT)' data/all.pdb\n",
    "for model in structure:\n",
    "    print('MODEL',model.id+1)\n",
    "#complxvis2('data/R.pdb','data/model2.pdb')\n",
    "    complxvis2('data/R.pdb','data/model'+str(model.id)+'.pdb')"
   ]
  },
  {
   "cell_type": "code",
   "execution_count": null,
   "metadata": {},
   "outputs": [],
   "source": []
  }
 ],
 "metadata": {
  "kernelspec": {
   "display_name": "Python 3",
   "language": "python",
   "name": "python3"
  },
  "language_info": {
   "codemirror_mode": {
    "name": "ipython",
    "version": 3
   },
   "file_extension": ".py",
   "mimetype": "text/x-python",
   "name": "python",
   "nbconvert_exporter": "python",
   "pygments_lexer": "ipython3",
   "version": "3.8.5"
  }
 },
 "nbformat": 4,
 "nbformat_minor": 4
}
