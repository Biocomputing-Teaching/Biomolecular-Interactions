{
 "cells": [
  {
   "cell_type": "markdown",
   "metadata": {},
   "source": [
    "## Autodock vina tutorial \n",
    "\n",
    "We will follow Sari Sabban's [videotutorial](https://www.youtube.com/watch?v=rBEKZQ22nhs) on the use of autodock for docking ligands into HIV-1 PROTEASE. We will use the PDB code [1HVC](https://www.rcsb.org/structure/1HVC) as our receptor.\n",
    "\n",
    "Let us start by downloading the receptor PDB file using [Biopython](https://biopython.org/docs/1.75/api/Bio.PDB.PDBList.html#Bio.PDB.PDBList.PDBList.retrieve_pdb_file)\n",
    "\n",
    "Requirements:\n",
    "\n",
    "* `biopython`. You can get it [through](https://biopython.org/wiki/Packages)\n",
    "```\n",
    "conda install -c conda-forge biopython\n",
    "```\n",
    "* `openbabel`. Open, collaborative project allowing anyone to search, convert, analyze, or store data from molecular modeling, chemistry, solid-state materials, biochemistry, or related areas. You can get it through\n",
    "```\n",
    "conda install -c openbabel openbabel`\n",
    "```\n",
    "* `pymol`. User-sponsored molecular visualization system on an open-source foundation, maintained and distributed by Schrödinger. You will need to get a (free) [student license](https://pymol.org/edu/?q=educational). \n",
    "```\n",
    "conda install -c schrodinger pymol-bundle\n",
    "```"
   ]
  },
  {
   "cell_type": "code",
   "metadata": {},
   "outputs": [],
   "source": [
    "from Bio.PDB import PDBList\n",
    "\n",
    "pdbcode = '1HVC'\n",
    "datadir = 'data'\n",
    "pdbl = PDBList()\n",
    "pdbfile = pdbl.retrieve_pdb_file(pdbcode,file_format='pdb',pdir=datadir)\n",
    "print(pdbfile)"
   ]
  },
  {
   "cell_type": "markdown",
   "metadata": {},
   "source": [
    "Now we will extract only the lines containing the atoms of the polypeptide chain. Those lines contain the tag ATOM and we will simply use the shell command `grep` to run such extraction:"
   ]
  },
  {
   "cell_type": "code",
   "metadata": {},
   "outputs": [],
   "source": [
    "#!grep ATOM {pdbfile} > {datadir}/R.pdb"
   ]
  },
  {
   "cell_type": "markdown",
   "metadata": {},
   "source": [
    "Autodock need the receptor file to contain the charges for every atom. So, we will convert the recently created `R.pdb`file into an `R.pdbqt`file using `openbabel`."
   ]
  },
  {
   "cell_type": "code",
   "metadata": {},
   "outputs": [],
   "source": [
    "#!obabel {datadir}/R.pdb -O {datadir}/temp.pdbqt -o pdbqt -xh\n",
    "!obabel {pdbfile} -O {datadir}/temp.pdbqt -o pdbqt -xh\n",
    "!grep ATOM {datadir}/temp.pdbqt > {datadir}/receptor.pdbqt"
   ]
  },
  {
   "cell_type": "code",
   "metadata": {},
   "outputs": [],
   "source": [
    "!tail -100 {datadir}/receptor.pdbqt"
   ]
  },
  {
   "cell_type": "code",
   "metadata": {},
   "outputs": [],
   "source": [
    "import py3Dmol"
   ]
  },
  {
   "cell_type": "code",
   "metadata": {},
   "outputs": [],
   "source": [
    "def visbox2(objeto,bxi,byi,bzi,bxf,byf,bzf):  \n",
    "  objeto.addBox({'center':{'x':bxi,'y':byi,'z':bzi},'dimensions': {'w':bxf,'h':byf,'d':bzf},'color':'blue','opacity': 0.5})\n",
    "\n",
    "def complxvis(objeto,protein_name,ligand_name):\n",
    "  mol1 = open(protein_name, 'r').read()\n",
    "  mol2 = open(ligand_name, 'r').read()\n",
    "  objeto.addModel(mol1,'pdb')\n",
    "  objeto.setStyle({'cartoon': {'color':'spectrum'}})\n",
    "  objeto.addModel(mol2,'pdb')\n",
    "  objeto.setStyle({'model':1},{'stick':{}})\n",
    "\n",
    "def vismol(bxi=-10,byi=-10,bzi=-10,bxf=5,byf=5,bzf=5):  \n",
    "  mol_view = py3Dmol.view(800, 400,viewergrid=(1,2))  \n",
    "  visbox2(mol_view,bxi,byi,bzi,bxf,byf,bzf)\n",
    "  complxvis(mol_view,'protein.pdb','ligand.pdb')\n",
    "  mol_view.setBackgroundColor('0xeeeeee')\n",
    "  mol_view.rotate(90, {'x':0,'y':1,'z':0},viewer=(0,1));\n",
    "  mol_view.zoomTo()  \n",
    "  mol_view.show()\n",
    "  \n",
    "from ipywidgets import interact,fixed,IntSlider\n",
    "import ipywidgets\n",
    "interact(vismol,bxi=ipywidgets.IntSlider(min=-100,max=100, step=1) ,byi=ipywidgets.IntSlider(min=-100,max=100, step=1),\n",
    "         bzi=ipywidgets.IntSlider(min=-100,max=100, step=1),bxf=ipywidgets.IntSlider(min=0,max=30, step=1),\n",
    "         byf=ipywidgets.IntSlider(min=0,max=30, step=1),\n",
    "         bzf=ipywidgets.IntSlider(min=0,max=30, step=1))"
   ]
  "metadata": {
  "kernelspec": {
   "display_name": "Python 3",
   "language": "python",
   "name": "python3"
  },
  "language_info": {
   "codemirror_mode": {
    "name": "ipython",
    "version": 3
   },
   "file_extension": ".py",
   "mimetype": "text/x-python",
   "name": "python",
   "nbconvert_exporter": "python",
   "pygments_lexer": "ipython3",
   "version": "3.8.5"
  },
 "nbformat": 4,
 "nbformat_minor": 4
}
